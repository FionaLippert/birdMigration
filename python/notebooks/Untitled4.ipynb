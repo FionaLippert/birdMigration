{
 "cells": [
  {
   "cell_type": "code",
   "execution_count": 5,
   "metadata": {},
   "outputs": [],
   "source": [
    "import project_path\n",
    "from modules import *\n",
    "import numpy as np\n",
    "from matplotlib import pyplot as plt\n",
    "import os.path as osp\n",
    "import xarray as xr\n",
    "import sys\n",
    "import cartopy.crs as ccrs\n",
    "import geopandas as gpd\n",
    "import geoplot as gplt\n",
    "import geoplot.crs as gcrs"
   ]
  },
  {
   "cell_type": "code",
   "execution_count": 2,
   "metadata": {},
   "outputs": [
    {
     "name": "stdout",
     "output_type": "stream",
     "text": [
      "abm\n",
      "correlation\n",
      "datahandling\n",
      "era5interface\n",
      "graphNN\n",
      "graphNN_dgl\n",
      "optimization\n",
      "spatial\n",
      "visualization\n"
     ]
    }
   ],
   "source": [
    "from pkgutil import iter_modules\n",
    "import modules\n",
    "for submodule in iter_modules(modules.__path__):\n",
    "    print(submodule.name)"
   ]
  },
  {
   "cell_type": "code",
   "execution_count": 4,
   "metadata": {},
   "outputs": [
    {
     "ename": "AttributeError",
     "evalue": "module 'modules' has no attribute 'abm'",
     "output_type": "error",
     "traceback": [
      "\u001b[0;31m---------------------------------------------------------------------------\u001b[0m",
      "\u001b[0;31mAttributeError\u001b[0m                            Traceback (most recent call last)",
      "\u001b[0;32m<ipython-input-4-ee40c3d13e93>\u001b[0m in \u001b[0;36m<module>\u001b[0;34m\u001b[0m\n\u001b[0;32m----> 1\u001b[0;31m \u001b[0mmodules\u001b[0m\u001b[0;34m.\u001b[0m\u001b[0mabm\u001b[0m\u001b[0;34m.\u001b[0m\u001b[0mDataCollection\u001b[0m\u001b[0;34m(\u001b[0m\u001b[0mrange\u001b[0m\u001b[0;34m(\u001b[0m\u001b[0;36m5\u001b[0m\u001b[0;34m)\u001b[0m\u001b[0;34m,\u001b[0m \u001b[0;36m2\u001b[0m\u001b[0;34m,\u001b[0m \u001b[0;34m[\u001b[0m\u001b[0;34m]\u001b[0m\u001b[0;34m,\u001b[0m \u001b[0;34m{\u001b[0m\u001b[0;34m}\u001b[0m\u001b[0;34m)\u001b[0m\u001b[0;34m\u001b[0m\u001b[0;34m\u001b[0m\u001b[0m\n\u001b[0m",
      "\u001b[0;31mAttributeError\u001b[0m: module 'modules' has no attribute 'abm'"
     ]
    }
   ],
   "source": [
    "modules.abm.DataCollection(range(5), 2, [], {})"
   ]
  },
  {
   "cell_type": "code",
   "execution_count": 6,
   "metadata": {},
   "outputs": [],
   "source": [
    "#countries = gpd.read_file('../../data/shapes/NUTS_RG_01M_2021_4326_LEVL_0.shp')\n",
    "countries = gpd.read_file('../../data/shapes/ne_10m_admin_0_countries_lakes.shp')\n",
    "roi = countries[countries['ADMIN'].isin(['Germany', 'Netherlands', 'Belgium'])]"
   ]
  },
  {
   "cell_type": "code",
   "execution_count": null,
   "metadata": {},
   "outputs": [
    {
     "name": "stderr",
     "output_type": "stream",
     "text": [
      "Geometry must be a Point or LineString\n"
     ]
    }
   ],
   "source": [
    "ax = gplt.polyplot(\n",
    "  roi,\n",
    "  edgecolor=\"white\",\n",
    "  facecolor=\"lightgray\",\n",
    "  figsize=(12, 8),\n",
    "  projection=gcrs.AlbersEqualArea()\n",
    ")"
   ]
  },
  {
   "cell_type": "code",
   "execution_count": 20,
   "metadata": {},
   "outputs": [
    {
     "data": {
      "text/plain": [
       "[<matplotlib.lines.Line2D at 0x7f0188242890>]"
      ]
     },
     "execution_count": 20,
     "metadata": {},
     "output_type": "execute_result"
    },
    {
     "data": {
      "image/png": "[encoded data removed]",
      "text/plain": [
       "<Figure size 432x288 with 1 Axes>"
      ]
     },
     "metadata": {
      "needs_background": "light"
     },
     "output_type": "display_data"
    }
   ],
   "source": [
    "plt.plot(counts.reshape((counts.shape[0], -1)).sum(1))"
   ]
  },
  {
   "cell_type": "code",
   "execution_count": null,
   "metadata": {},
   "outputs": [],
   "source": []
  }
 ],
 "metadata": {
  "kernelspec": {
   "display_name": "birdmigration",
   "language": "python",
   "name": "birdmigration"
  },
  "language_info": {
   "codemirror_mode": {
    "name": "ipython",
    "version": 3
   },
   "file_extension": ".py",
   "mimetype": "text/x-python",
   "name": "python",
   "nbconvert_exporter": "python",
   "pygments_lexer": "ipython3",
   "version": "3.7.6"
  }
 },
 "nbformat": 4,
 "nbformat_minor": 4
}
