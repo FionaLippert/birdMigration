{
 "cells": [
  {
   "cell_type": "code",
   "execution_count": 1,
   "metadata": {},
   "outputs": [],
   "source": [
    "from jpype import *"
   ]
  },
  {
   "cell_type": "code",
   "execution_count": 2,
   "metadata": {},
   "outputs": [],
   "source": [
    "classpath = \"/home/fiona/bayesserver-9.3/Java/bayesserver-9.3.jar\"\n",
    "startJVM(getDefaultJVMPath(), \"-Djava.class.path=%s\" % classpath, convertStrings=False)"
   ]
  },
  {
   "cell_type": "code",
   "execution_count": 3,
   "metadata": {},
   "outputs": [],
   "source": [
    "bayes = JPackage(\"com.bayesserver\")\n",
    "bayes_inference = JPackage(\"com.bayesserver.inference\")"
   ]
  },
  {
   "cell_type": "code",
   "execution_count": 6,
   "metadata": {},
   "outputs": [
    {
     "ename": "AttributeError",
     "evalue": "Java package 'com.bayesserver.inference' is not valid",
     "output_type": "error",
     "traceback": [
      "\u001b[0;31m---------------------------------------------------------------------------\u001b[0m",
      "\u001b[0;31mAttributeError\u001b[0m                            Traceback (most recent call last)",
      "\u001b[0;32m<ipython-input-6-0c8f7492ecff>\u001b[0m in \u001b[0;36m<module>\u001b[0;34m\u001b[0m\n\u001b[0;32m----> 1\u001b[0;31m \u001b[0mfactory\u001b[0m \u001b[0;34m=\u001b[0m \u001b[0mbayes_inference\u001b[0m\u001b[0;34m.\u001b[0m\u001b[0mRelevanceTreeInferenceFactory\u001b[0m\u001b[0;34m(\u001b[0m\u001b[0;34m)\u001b[0m\u001b[0;34m\u001b[0m\u001b[0;34m\u001b[0m\u001b[0m\n\u001b[0m",
      "\u001b[0;31mAttributeError\u001b[0m: Java package 'com.bayesserver.inference' is not valid"
     ]
    }
   ],
   "source": [
    "factory = bayes_inference.RelevanceTreeInferenceFactory()"
   ]
  },
  {
   "cell_type": "code",
   "execution_count": 4,
   "metadata": {},
   "outputs": [
    {
     "ename": "AttributeError",
     "evalue": "Java package 'com.bayesserver' is not valid",
     "output_type": "error",
     "traceback": [
      "\u001b[0;31m---------------------------------------------------------------------------\u001b[0m",
      "\u001b[0;31mAttributeError\u001b[0m                            Traceback (most recent call last)",
      "\u001b[0;32m<ipython-input-4-7f3f35dd3e4c>\u001b[0m in \u001b[0;36m<module>\u001b[0;34m\u001b[0m\n\u001b[0;32m----> 1\u001b[0;31m \u001b[0mnetwork\u001b[0m \u001b[0;34m=\u001b[0m \u001b[0mbayes\u001b[0m\u001b[0;34m.\u001b[0m\u001b[0mNetwork\u001b[0m\u001b[0;34m(\u001b[0m\u001b[0;34m'Demo'\u001b[0m\u001b[0;34m)\u001b[0m\u001b[0;34m\u001b[0m\u001b[0;34m\u001b[0m\u001b[0m\n\u001b[0m\u001b[1;32m      2\u001b[0m \u001b[0mvariables\u001b[0m \u001b[0;34m=\u001b[0m \u001b[0mnetwork\u001b[0m\u001b[0;34m.\u001b[0m\u001b[0mgetVariables\u001b[0m\u001b[0;34m(\u001b[0m\u001b[0;34m)\u001b[0m\u001b[0;34m\u001b[0m\u001b[0;34m\u001b[0m\u001b[0m\n\u001b[1;32m      3\u001b[0m \u001b[0;34m\u001b[0m\u001b[0m\n\u001b[1;32m      4\u001b[0m \u001b[0;31m#  add the nodes/variables\u001b[0m\u001b[0;34m\u001b[0m\u001b[0;34m\u001b[0m\u001b[0;34m\u001b[0m\u001b[0m\n\u001b[1;32m      5\u001b[0m \u001b[0;34m\u001b[0m\u001b[0m\n",
      "\u001b[0;31mAttributeError\u001b[0m: Java package 'com.bayesserver' is not valid"
     ]
    }
   ],
   "source": [
    "network = bayes.Network('Demo')\n",
    "variables = network.getVariables()\n",
    "\n",
    "#  add the nodes/variables\n",
    "\n",
    "aTrue = bayes.State('True')\n",
    "aFalse = bayes.State('False')\n",
    "a = bayes.Node('A', [aTrue, aFalse])\n",
    "\n",
    "bTrue = bayes.State('True')\n",
    "bFalse = bayes.State('False')\n",
    "b = bayes.Node('B', [bTrue, bFalse])\n",
    "\n",
    "cTrue = bayes.State('True')\n",
    "cFalse = bayes.State('False')\n",
    "c = bayes.Node('C', [cTrue, cFalse])\n",
    "\n",
    "dTrue = bayes.State('True')\n",
    "dFalse = bayes.State('False')\n",
    "d = bayes.Node('D', [dTrue, dFalse])\n",
    "\n",
    "nodes = network.getNodes()\n",
    "nodes.add(a)\n",
    "nodes.add(b)\n",
    "nodes.add(c)\n",
    "nodes.add(d)\n"
   ]
  },
  {
   "cell_type": "code",
   "execution_count": null,
   "metadata": {},
   "outputs": [],
   "source": []
  }
 ],
 "metadata": {
  "kernelspec": {
   "display_name": "bayesnet",
   "language": "python",
   "name": "bayesnet"
  },
  "language_info": {
   "codemirror_mode": {
    "name": "ipython",
    "version": 3
   },
   "file_extension": ".py",
   "mimetype": "text/x-python",
   "name": "python",
   "nbconvert_exporter": "python",
   "pygments_lexer": "ipython3",
   "version": "3.8.3"
  }
 },
 "nbformat": 4,
 "nbformat_minor": 4
}
