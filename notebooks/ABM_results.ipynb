{
 "cells": [
  {
   "cell_type": "code",
   "execution_count": 4,
   "metadata": {},
   "outputs": [],
   "source": [
    "import numpy as np\n",
    "from matplotlib import pyplot as plt\n",
    "import matplotlib as mpl\n",
    "import os.path as osp\n",
    "import xarray as xr\n",
    "import sys\n",
    "import os\n",
    "import glob\n",
    "import pickle5 as pickle\n",
    "import yaml\n",
    "import cartopy.crs as ccrs\n",
    "import geopandas as gpd\n",
    "import pandas as pd\n",
    "import geoplot as gplt\n",
    "import geoplot.crs as gcrs\n",
    "from shapely.geometry import Polygon, Point, LineString\n",
    "from shapely.ops import cascaded_union\n",
    "import imageio\n",
    "\n",
    "import utils"
   ]
  },
  {
   "cell_type": "markdown",
   "metadata": {},
   "source": [
    "# Individual-Based Model Results\n",
    "### Properties of simulated birds\n",
    " - initial position ($p_0$, randomly sampled from specified departure area)\n",
    " - date at which migration is initiated\n",
    " - preferred migration direction ($\\alpha_{pref}$, sampled from wrapped Gaussian distribution with $mean=215^{\\circ}$ and $std=5^{\\circ}$)\n",
    " - air speed ($v_{air}=10 \\ m/s$)\n",
    " - wind compensation $f_{wind}\\in \\left[0,1\\right]$\n",
    " - tolerated energy expenditure per unit distance travelled along the preferred migration direction ($e_{tol}$ sampled from Gaussian distribution)\n",
    " - state (one of 'flying', 'landed', 'outside simulated area')\n",
    "\n",
    "Air speed and wind compensation are the same for all simulated birds.\n",
    "\n",
    "### Environmental variables\n",
    " - wind at $850mb$\n",
    " - sun position\n",
    "\n",
    "### Dynamics\n",
    "The trajectories of $N$ birds are simulated with a time resolution of 1 hour. <br>\n",
    "At each time step, birds choose their next state based on their previous state and the environmental conditions at that time.\n",
    "\n",
    "#### Departure\n",
    "Birds decide to take off if all of the followind conditions are met:\n",
    " - it is the first hour after civil dusk (sun position $< -6^{\\circ}$)\n",
    " - the bird has initiated its migration\n",
    " - the energy expenditure given the wind contitions, the bird's preferred direction and wind compensation is lower than the birds threshold $e_{tol}$\n",
    " - the wind conditions allow for the desired amount of compensation\n",
    "\n",
    "Energy expenditure is computed as\n",
    "\n",
    "$e = \\frac{v_{air}}{v_{ground} * \\cos(\\gamma)} - 1$, with $\\gamma$ the drift angle \n",
    "\n",
    "#### Flight behavior\n",
    "For a flying bird the next position is computed as follows:\n",
    "\n",
    "$p_{t+1} = p_{t} + \\mathbf{v}_{ground}$,\n",
    "\n",
    "with $\\mathbf{v}_{ground}$ the ground speed vector with \n",
    " - length $v_{ground} = v_{air} * \\cos(\\alpha_{head} - \\gamma + v_{wind} * \\cos(\\beta - \\gamma)$, <br> with $\\alpha_{head}$ the bird's heading, $\\beta$ the wind direction and $\\gamma$ the drift angle, all given relative to the preferred direction of the bird $\\alpha_{pref}$\n",
    " - direction $\\alpha_{res} = \\alpha_{pref} + \\gamma$\n",
    "\n",
    "The bird's heading and drift are computed as follows:\n",
    " - $\\alpha_{head} = -\\arcsin(\\frac{f_{wind}*v_{wind}*\\sin(\\beta)}{v_{air}})$\n",
    " - $\\gamma = \\arctan(\\frac{v_{air} * \\sin(\\alpha_{head}) + v_{wind} * \\sin(\\beta)}{v_{air} * \\cos(\\alpha_{head}) + v_{wind} * \\cos(\\beta)})$\n",
    "\n",
    "\n",
    "### Load shape data"
   ]
  },
  {
   "cell_type": "code",
   "execution_count": 3,
   "metadata": {},
   "outputs": [],
   "source": [
    "d = '/home/fiona/birdMigration/data/shapes'\n",
    "countries = gpd.read_file(osp.join(d, 'ne_10m_admin_0_countries_lakes.shp'))\n",
    "departure_area = gpd.read_file(osp.join(d, 'departure_area.shp'))\n",
    "voronoi = gpd.read_file('/home/fiona/birdMigration/data/raw/radar/fall/2015/voronoi.shp').to_crs(epsg='4326')\n",
    "sink = gpd.read_file('/home/fiona/birdMigration/data/raw/radar/fall/2015/voronoi_sink.shp').to_crs(epsg='4326')\n",
    "voronoi_with_sink = utils.add_sink_to_voronoi(voronoi, sink)\n",
    "\n",
    "# crs for equal area transformation\n",
    "crs_proj4 = ccrs.AlbersEqualArea().proj4_init"
   ]
  },
  {
   "cell_type": "markdown",
   "metadata": {},
   "source": [
    "### Load simulation results"
   ]
  },
  {
   "cell_type": "code",
   "execution_count": null,
   "metadata": {},
   "outputs": [],
   "source": [
    "path = '/home/fiona/birdMigration/data/experiments/abm/fall/2017/experiment_2021-03-26 12:50:21.974065/'\n",
    "states = np.load(osp.join(path, 'states.npy'))\n",
    "traj = np.load(osp.join(path, 'traj.npy'))\n",
    "with open(osp.join(path, 'time.pkl'), 'rb') as f:\n",
    "    time = pickle.load(f)"
   ]
  },
  {
   "cell_type": "code",
   "execution_count": 4,
   "metadata": {},
   "outputs": [
    {
     "name": "stdout",
     "output_type": "stream",
     "text": [
      "/home/fiona/birdMigration/data/experiments/abm/fall/2017/experiment_2021-03-26 12:50:21.974065/simulation_results_4.pkl\n",
      "/home/fiona/birdMigration/data/experiments/abm/fall/2017/experiment_2021-03-26 12:50:21.974065/simulation_results_7.pkl\n",
      "/home/fiona/birdMigration/data/experiments/abm/fall/2017/experiment_2021-03-26 12:50:21.974065/simulation_results_5.pkl\n",
      "/home/fiona/birdMigration/data/experiments/abm/fall/2017/experiment_2021-03-26 12:50:21.974065/simulation_results_13.pkl\n",
      "/home/fiona/birdMigration/data/experiments/abm/fall/2017/experiment_2021-03-26 12:50:21.974065/simulation_results_6.pkl\n",
      "/home/fiona/birdMigration/data/experiments/abm/fall/2017/experiment_2021-03-26 12:50:21.974065/simulation_results_14.pkl\n",
      "/home/fiona/birdMigration/data/experiments/abm/fall/2017/experiment_2021-03-26 12:50:21.974065/simulation_results_8.pkl\n",
      "/home/fiona/birdMigration/data/experiments/abm/fall/2017/experiment_2021-03-26 12:50:21.974065/simulation_results_11.pkl\n",
      "/home/fiona/birdMigration/data/experiments/abm/fall/2017/experiment_2021-03-26 12:50:21.974065/simulation_results_9.pkl\n",
      "/home/fiona/birdMigration/data/experiments/abm/fall/2017/experiment_2021-03-26 12:50:21.974065/simulation_results_2.pkl\n",
      "/home/fiona/birdMigration/data/experiments/abm/fall/2017/experiment_2021-03-26 12:50:21.974065/simulation_results_16.pkl\n",
      "/home/fiona/birdMigration/data/experiments/abm/fall/2017/experiment_2021-03-26 12:50:21.974065/simulation_results_12.pkl\n",
      "/home/fiona/birdMigration/data/experiments/abm/fall/2017/experiment_2021-03-26 12:50:21.974065/simulation_results_1.pkl\n",
      "/home/fiona/birdMigration/data/experiments/abm/fall/2017/experiment_2021-03-26 12:50:21.974065/simulation_results_0.pkl\n",
      "/home/fiona/birdMigration/data/experiments/abm/fall/2017/experiment_2021-03-26 12:50:21.974065/simulation_results_3.pkl\n",
      "/home/fiona/birdMigration/data/experiments/abm/fall/2017/experiment_2021-03-26 12:50:21.974065/simulation_results_10.pkl\n",
      "/home/fiona/birdMigration/data/experiments/abm/fall/2017/experiment_2021-03-26 12:50:21.974065/simulation_results_15.pkl\n"
     ]
    }
   ],
   "source": [
    "abm_path = '/home/fiona/birdMigration/data/experiments/abm/fall/2015/experiment_2021-02-19 15:13:36.750872'\n",
    "#abm_path = '/home/fiona/birdMigration/data/raw/abm/fall/2015'\n",
    "path = '/home/fiona/birdMigration/data/experiments/abm/fall/2017/experiment_2021-03-26 12:50:21.974065/'\n",
    "#traj, states, time = utils.load_sim_results(abm_path)\n",
    "\n",
    "files = glob.glob(osp.join(path, '*.pkl'))\n",
    "traj = []\n",
    "states = []\n",
    "for file in files:\n",
    "    print(file)\n",
    "    with open(file, 'rb') as f:\n",
    "        result = pickle.load(f)\n",
    "    traj.append(result['trajectories'])\n",
    "    states.append(result['states'])\n",
    "\n",
    "# traj = np.concatenate(traj, axis=1)\n",
    "# states = np.concatenate(states, axis=1)\n",
    "# time = result['time']\n",
    "    \n",
    "# T = len(time)\n",
    "# with open(osp.join(abm_path, 'abm_config.yml')) as f:\n",
    "#     config = yaml.load(f, Loader=yaml.FullLoader)\n",
    "    \n",
    "# # simulation settings\n",
    "# print('Simulation Settings')\n",
    "# print('-'*40)\n",
    "# print(f'start date: {config[\"year\"]}-{config[\"start_date\"]}')\n",
    "# print(f'end date:   {config[\"year\"]}-{config[\"end_date\"]}')\n",
    "# print(f'number of birds: {config[\"num_birds\"]}')\n",
    "# print(f'wind compensation: {config[\"settings\"][\"compensation\"]*100}%')\n",
    "# print(f'tolerated energy expenditure: {config[\"settings\"][\"energy_tol_mean\"]} +/- {config[\"settings\"][\"energy_tol_std\"]}')"
   ]
  },
  {
   "cell_type": "code",
   "execution_count": null,
   "metadata": {},
   "outputs": [],
   "source": [
    "traj = np.concatenate(traj, axis=1)\n",
    "states = np.concatenate(states, axis=1)"
   ]
  },
  {
   "cell_type": "code",
   "execution_count": 1,
   "metadata": {},
   "outputs": [
    {
     "ename": "NameError",
     "evalue": "name 'traj' is not defined",
     "output_type": "error",
     "traceback": [
      "\u001b[0;31m---------------------------------------------------------------------------\u001b[0m",
      "\u001b[0;31mNameError\u001b[0m                                 Traceback (most recent call last)",
      "\u001b[0;32m<ipython-input-1-3d4ec38637c0>\u001b[0m in \u001b[0;36m<module>\u001b[0;34m\u001b[0m\n\u001b[0;32m----> 1\u001b[0;31m \u001b[0mtraj\u001b[0m\u001b[0;34m\u001b[0m\u001b[0;34m\u001b[0m\u001b[0m\n\u001b[0m",
      "\u001b[0;31mNameError\u001b[0m: name 'traj' is not defined"
     ]
    }
   ],
   "source": [
    "traj"
   ]
  },
  {
   "cell_type": "code",
   "execution_count": null,
   "metadata": {},
   "outputs": [],
   "source": []
  }
 ],
 "metadata": {
  "kernelspec": {
   "display_name": "birds",
   "language": "python",
   "name": "birds"
  },
  "language_info": {
   "codemirror_mode": {
    "name": "ipython",
    "version": 3
   },
   "file_extension": ".py",
   "mimetype": "text/x-python",
   "name": "python",
   "nbconvert_exporter": "python",
   "pygments_lexer": "ipython3",
   "version": "3.7.6"
  }
 },
 "nbformat": 4,
 "nbformat_minor": 4
}
