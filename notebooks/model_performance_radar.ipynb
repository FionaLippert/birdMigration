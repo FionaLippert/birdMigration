{
 "cells": [
  {
   "cell_type": "markdown",
   "metadata": {},
   "source": [
    "## Model Performance for Radar Data\n",
    "\n",
    "All models are trained on data from fall 2016 and 2017. Hyperparameters have been tuned using 25% of the data from fall 2015.\n",
    "\n",
    "The final model performance is evaluated on the remaining 75% of fall 2015.\n",
    "\n",
    "Model performance is quantified using the Root Mean-Squared Error (RMSE), where only available timepoints during the night are considered."
   ]
  },
  {
   "cell_type": "code",
   "execution_count": 2,
   "metadata": {},
   "outputs": [],
   "source": [
    "import pandas as pd\n",
    "import numpy as np\n",
    "import scipy as sp\n",
    "import torch\n",
    "import os.path as osp\n",
    "import seaborn as sb\n",
    "from matplotlib import pyplot as plt\n",
    "import glob"
   ]
  },
  {
   "cell_type": "code",
   "execution_count": 3,
   "metadata": {},
   "outputs": [],
   "source": [
    "base_dir = '/home/fiona/birdMigration/results/radar/testing'"
   ]
  },
  {
   "cell_type": "markdown",
   "metadata": {},
   "source": [
    "### Load Results"
   ]
  },
  {
   "cell_type": "code",
   "execution_count": null,
   "metadata": {},
   "outputs": [],
   "source": [
    "models = ['GBT', 'LocalMLP', 'LocalLSTM', 'GraphLSTM', 'BirdFlowGraphLSTM']\n",
    "experiments = ['_not_transformed', '_not_transformed', '_new', '_new', '_new']\n",
    "\n",
    "for i, m in enumerate(models):\n",
    "    experiment = 'best_settings' + experiments[i]\n",
    "    model_dir = osp.join(base_dir, m, experiment'\n",
    "    files = glob.glob(model_dir + \"/**/results.csv\", recursive = True)\n",
    "    results[m] = pd.read_csv(files[0])"
   ]
  }
 ],
 "metadata": {
  "kernelspec": {
   "display_name": "birds",
   "language": "python",
   "name": "birds"
  },
  "language_info": {
   "codemirror_mode": {
    "name": "ipython",
    "version": 3
   },
   "file_extension": ".py",
   "mimetype": "text/x-python",
   "name": "python",
   "nbconvert_exporter": "python",
   "pygments_lexer": "ipython3",
   "version": "3.7.6"
  }
 },
 "nbformat": 4,
 "nbformat_minor": 4
}
