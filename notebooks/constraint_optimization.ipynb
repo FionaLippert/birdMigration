{
 "cells": [
  {
   "cell_type": "code",
   "execution_count": 1,
   "metadata": {},
   "outputs": [],
   "source": [
    "from matplotlib import pyplot as plt\n",
    "import numpy as np\n",
    "import scipy as sp\n",
    "import os\n",
    "import glob\n",
    "import sys\n",
    "from pathlib import Path\n",
    "from scipy.optimize import minimize, Bounds"
   ]
  },
  {
   "cell_type": "code",
   "execution_count": 2,
   "metadata": {},
   "outputs": [],
   "source": [
    "# allow for import of my python modules\n",
    "module_path = str(Path.cwd().parents[0] / \"python\")\n",
    "\n",
    "if module_path not in sys.path:\n",
    "    sys.path.append(module_path)\n",
    "\n",
    "from modules import datahandling, spatial"
   ]
  },
  {
   "cell_type": "code",
   "execution_count": 3,
   "metadata": {},
   "outputs": [],
   "source": [
    "years = ['2015', '2016', '2017']\n",
    "vid_data = {}\n",
    "radars = {}\n",
    "\n",
    "for y in years:\n",
    "    begin = f'{y}-08-01'\n",
    "    end = f'{y}-11-15'\n",
    "    path = f'/home/fiona/radar_data/vpi/night_only/{y}0801T0000_to_{y}1130T2359'\n",
    "    vid_data[y], radars[y], t_range = datahandling.load_data(path, 'vid', begin, end, '1H', mask_days=True)"
   ]
  },
  {
   "cell_type": "code",
   "execution_count": 7,
   "metadata": {},
   "outputs": [],
   "source": [
    "y = '2016'\n",
    "names = radars[y]\n",
    "space = spatial.Spatial(names)\n",
    "adj, voronoi, G = space.voronoi(plot=False)\n",
    "\n",
    "# graph without sink nodes\n",
    "G = space.subgraph('type', 'measured')\n",
    "\n",
    "data = np.stack([v.data.flatten() for k, v in vid_data[y].items()])"
   ]
  },
  {
   "cell_type": "code",
   "execution_count": 8,
   "metadata": {},
   "outputs": [],
   "source": [
    "# create train-test pairs\n",
    "check = np.isfinite(data).all(axis=0)\n",
    "tidx = np.append(np.logical_and(check[:-1], check[1:]), False)\n",
    "X = data[:,tidx]\n",
    "Y = np.roll(data, -1, axis=1)[:,tidx]\n",
    "\n",
    "scale = X.max(axis=0) * 0.2\n",
    "X /= scale\n",
    "Y /= scale\n",
    "\n",
    "test_size = 200\n",
    "X_train = X[:, test_size:].T\n",
    "Y_train = Y[:, test_size:]\n",
    "X_test  = X[:, :test_size].T\n",
    "Y_test  = Y[:, :test_size]"
   ]
  },
  {
   "cell_type": "code",
   "execution_count": 9,
   "metadata": {},
   "outputs": [
    {
     "data": {
      "text/plain": [
       "{0: [1, 5, 9],\n",
       " 1: [0, 5, 8],\n",
       " 3: [6, 13, 19],\n",
       " 7: [2, 11, 14, 15, 20],\n",
       " 8: [1, 5, 10, 19],\n",
       " 9: [0, 4, 5, 11, 14],\n",
       " 13: [3, 6, 17],\n",
       " 14: [7, 9, 11],\n",
       " 15: [7, 20, 21],\n",
       " 17: [6, 12, 13, 18],\n",
       " 18: [2, 12, 17, 20, 21],\n",
       " 19: [3, 6, 8, 10],\n",
       " 21: [15, 18, 20]}"
      ]
     },
     "execution_count": 9,
     "metadata": {},
     "output_type": "execute_result"
    }
   ],
   "source": [
    "targets = [n for n, data in G.nodes(data=True) if data.get('boundary')]\n",
    "sources = {n : list(G.neighbors(n)) for n in targets}\n",
    "sources"
   ]
  },
  {
   "cell_type": "code",
   "execution_count": 25,
   "metadata": {},
   "outputs": [
    {
     "ename": "NameError",
     "evalue": "name 'der' is not defined",
     "output_type": "error",
     "traceback": [
      "\u001b[0;31m---------------------------------------------------------------------------\u001b[0m",
      "\u001b[0;31mNameError\u001b[0m                                 Traceback (most recent call last)",
      "\u001b[0;32m<ipython-input-25-996a01b9b10b>\u001b[0m in \u001b[0;36m<module>\u001b[0;34m\u001b[0m\n\u001b[0;32m----> 1\u001b[0;31m \u001b[0mres\u001b[0m\u001b[0;34m,\u001b[0m \u001b[0mtargets\u001b[0m\u001b[0;34m,\u001b[0m \u001b[0msources\u001b[0m \u001b[0;34m=\u001b[0m \u001b[0mrun_optimization\u001b[0m\u001b[0;34m(\u001b[0m\u001b[0mX_train\u001b[0m\u001b[0;34m,\u001b[0m \u001b[0mY_train\u001b[0m\u001b[0;34m,\u001b[0m \u001b[0mG\u001b[0m\u001b[0;34m,\u001b[0m \u001b[0mconstraints\u001b[0m\u001b[0;34m=\u001b[0m\u001b[0;32mTrue\u001b[0m\u001b[0;34m)\u001b[0m\u001b[0;34m\u001b[0m\u001b[0;34m\u001b[0m\u001b[0m\n\u001b[0m\u001b[1;32m      2\u001b[0m \u001b[0;32mfor\u001b[0m \u001b[0mi\u001b[0m\u001b[0;34m,\u001b[0m \u001b[0mnode\u001b[0m \u001b[0;32min\u001b[0m \u001b[0menumerate\u001b[0m\u001b[0;34m(\u001b[0m\u001b[0mtargets\u001b[0m\u001b[0;34m)\u001b[0m\u001b[0;34m:\u001b[0m\u001b[0;34m\u001b[0m\u001b[0;34m\u001b[0m\u001b[0m\n\u001b[1;32m      3\u001b[0m     \u001b[0mout_flux\u001b[0m \u001b[0;34m=\u001b[0m \u001b[0mres\u001b[0m\u001b[0;34m.\u001b[0m\u001b[0mx\u001b[0m\u001b[0;34m[\u001b[0m\u001b[0mnp\u001b[0m\u001b[0;34m.\u001b[0m\u001b[0mwhere\u001b[0m\u001b[0;34m(\u001b[0m\u001b[0msources\u001b[0m\u001b[0;34m==\u001b[0m\u001b[0mnode\u001b[0m\u001b[0;34m)\u001b[0m\u001b[0;34m]\u001b[0m\u001b[0;34m.\u001b[0m\u001b[0msum\u001b[0m\u001b[0;34m(\u001b[0m\u001b[0;34m)\u001b[0m\u001b[0;34m\u001b[0m\u001b[0;34m\u001b[0m\u001b[0m\n\u001b[1;32m      4\u001b[0m     \u001b[0mprint\u001b[0m\u001b[0;34m(\u001b[0m\u001b[0;34mf'{i}: total flux = {out_flux}, \\n weights = {res.x[np.where(sources==node)]}'\u001b[0m\u001b[0;34m)\u001b[0m\u001b[0;34m\u001b[0m\u001b[0;34m\u001b[0m\u001b[0m\n",
      "\u001b[0;32m<ipython-input-24-1f2f5285522e>\u001b[0m in \u001b[0;36mrun_optimization\u001b[0;34m(X_train, Y_train, G, init, constraints, ftol, maxiter)\u001b[0m\n\u001b[1;32m     20\u001b[0m \u001b[0;34m\u001b[0m\u001b[0m\n\u001b[1;32m     21\u001b[0m     \u001b[0;32mif\u001b[0m \u001b[0mconstraints\u001b[0m\u001b[0;34m:\u001b[0m\u001b[0;34m\u001b[0m\u001b[0;34m\u001b[0m\u001b[0m\n\u001b[0;32m---> 22\u001b[0;31m         res = minimize(loss, x0, args=(X_train, Y_train, G, targets), \n\u001b[0m\u001b[1;32m     23\u001b[0m                        \u001b[0mbounds\u001b[0m\u001b[0;34m=\u001b[0m\u001b[0mbounds\u001b[0m\u001b[0;34m,\u001b[0m \u001b[0mmethod\u001b[0m\u001b[0;34m=\u001b[0m\u001b[0mmethod\u001b[0m\u001b[0;34m,\u001b[0m \u001b[0mconstraints\u001b[0m\u001b[0;34m=\u001b[0m\u001b[0mcons\u001b[0m\u001b[0;34m,\u001b[0m\u001b[0;34m\u001b[0m\u001b[0;34m\u001b[0m\u001b[0m\n\u001b[1;32m     24\u001b[0m                        jac=jac, options={'ftol': ftol, 'disp': True, 'maxiter':maxiter})\n",
      "\u001b[0;32m~/anaconda3/envs/bird_vis/lib/python3.8/site-packages/scipy/optimize/_minimize.py\u001b[0m in \u001b[0;36mminimize\u001b[0;34m(fun, x0, args, method, jac, hess, hessp, bounds, constraints, tol, callback, options)\u001b[0m\n\u001b[1;32m    615\u001b[0m         \u001b[0;32mreturn\u001b[0m \u001b[0m_minimize_cobyla\u001b[0m\u001b[0;34m(\u001b[0m\u001b[0mfun\u001b[0m\u001b[0;34m,\u001b[0m \u001b[0mx0\u001b[0m\u001b[0;34m,\u001b[0m \u001b[0margs\u001b[0m\u001b[0;34m,\u001b[0m \u001b[0mconstraints\u001b[0m\u001b[0;34m,\u001b[0m \u001b[0;34m**\u001b[0m\u001b[0moptions\u001b[0m\u001b[0;34m)\u001b[0m\u001b[0;34m\u001b[0m\u001b[0;34m\u001b[0m\u001b[0m\n\u001b[1;32m    616\u001b[0m     \u001b[0;32melif\u001b[0m \u001b[0mmeth\u001b[0m \u001b[0;34m==\u001b[0m \u001b[0;34m'slsqp'\u001b[0m\u001b[0;34m:\u001b[0m\u001b[0;34m\u001b[0m\u001b[0;34m\u001b[0m\u001b[0m\n\u001b[0;32m--> 617\u001b[0;31m         return _minimize_slsqp(fun, x0, args, jac, bounds,\n\u001b[0m\u001b[1;32m    618\u001b[0m                                constraints, callback=callback, **options)\n\u001b[1;32m    619\u001b[0m     \u001b[0;32melif\u001b[0m \u001b[0mmeth\u001b[0m \u001b[0;34m==\u001b[0m \u001b[0;34m'trust-constr'\u001b[0m\u001b[0;34m:\u001b[0m\u001b[0;34m\u001b[0m\u001b[0;34m\u001b[0m\u001b[0m\n",
      "\u001b[0;32m~/anaconda3/envs/bird_vis/lib/python3.8/site-packages/scipy/optimize/slsqp.py\u001b[0m in \u001b[0;36m_minimize_slsqp\u001b[0;34m(func, x0, args, jac, bounds, constraints, maxiter, ftol, iprint, disp, eps, callback, **unknown_options)\u001b[0m\n\u001b[1;32m    421\u001b[0m             \u001b[0;31m# Compute the derivatives of the objective function\u001b[0m\u001b[0;34m\u001b[0m\u001b[0;34m\u001b[0m\u001b[0;34m\u001b[0m\u001b[0m\n\u001b[1;32m    422\u001b[0m             \u001b[0;31m# For some reason SLSQP wants g dimensioned to n+1\u001b[0m\u001b[0;34m\u001b[0m\u001b[0;34m\u001b[0m\u001b[0;34m\u001b[0m\u001b[0m\n\u001b[0;32m--> 423\u001b[0;31m             \u001b[0mg\u001b[0m \u001b[0;34m=\u001b[0m \u001b[0mappend\u001b[0m\u001b[0;34m(\u001b[0m\u001b[0mfprime\u001b[0m\u001b[0;34m(\u001b[0m\u001b[0mx\u001b[0m\u001b[0;34m)\u001b[0m\u001b[0;34m,\u001b[0m \u001b[0;36m0.0\u001b[0m\u001b[0;34m)\u001b[0m\u001b[0;34m\u001b[0m\u001b[0;34m\u001b[0m\u001b[0m\n\u001b[0m\u001b[1;32m    424\u001b[0m \u001b[0;34m\u001b[0m\u001b[0m\n\u001b[1;32m    425\u001b[0m             \u001b[0;31m# Compute the normals of the constraints\u001b[0m\u001b[0;34m\u001b[0m\u001b[0;34m\u001b[0m\u001b[0;34m\u001b[0m\u001b[0m\n",
      "\u001b[0;32m~/anaconda3/envs/bird_vis/lib/python3.8/site-packages/scipy/optimize/optimize.py\u001b[0m in \u001b[0;36mfunction_wrapper\u001b[0;34m(*wrapper_args)\u001b[0m\n\u001b[1;32m    325\u001b[0m     \u001b[0;32mdef\u001b[0m \u001b[0mfunction_wrapper\u001b[0m\u001b[0;34m(\u001b[0m\u001b[0;34m*\u001b[0m\u001b[0mwrapper_args\u001b[0m\u001b[0;34m)\u001b[0m\u001b[0;34m:\u001b[0m\u001b[0;34m\u001b[0m\u001b[0;34m\u001b[0m\u001b[0m\n\u001b[1;32m    326\u001b[0m         \u001b[0mncalls\u001b[0m\u001b[0;34m[\u001b[0m\u001b[0;36m0\u001b[0m\u001b[0;34m]\u001b[0m \u001b[0;34m+=\u001b[0m \u001b[0;36m1\u001b[0m\u001b[0;34m\u001b[0m\u001b[0;34m\u001b[0m\u001b[0m\n\u001b[0;32m--> 327\u001b[0;31m         \u001b[0;32mreturn\u001b[0m \u001b[0mfunction\u001b[0m\u001b[0;34m(\u001b[0m\u001b[0;34m*\u001b[0m\u001b[0;34m(\u001b[0m\u001b[0mwrapper_args\u001b[0m \u001b[0;34m+\u001b[0m \u001b[0margs\u001b[0m\u001b[0;34m)\u001b[0m\u001b[0;34m)\u001b[0m\u001b[0;34m\u001b[0m\u001b[0;34m\u001b[0m\u001b[0m\n\u001b[0m\u001b[1;32m    328\u001b[0m \u001b[0;34m\u001b[0m\u001b[0m\n\u001b[1;32m    329\u001b[0m     \u001b[0;32mreturn\u001b[0m \u001b[0mncalls\u001b[0m\u001b[0;34m,\u001b[0m \u001b[0mfunction_wrapper\u001b[0m\u001b[0;34m\u001b[0m\u001b[0;34m\u001b[0m\u001b[0m\n",
      "\u001b[0;32m<ipython-input-23-a7e277832594>\u001b[0m in \u001b[0;36mjac\u001b[0;34m(w, X_train, Y_train, G, targets)\u001b[0m\n\u001b[1;32m     24\u001b[0m         \u001b[0midx\u001b[0m \u001b[0;34m+=\u001b[0m \u001b[0mnn\u001b[0m\u001b[0;34m\u001b[0m\u001b[0;34m\u001b[0m\u001b[0m\n\u001b[1;32m     25\u001b[0m     \u001b[0mjac\u001b[0m \u001b[0;34m=\u001b[0m \u001b[0mnp\u001b[0m\u001b[0;34m.\u001b[0m\u001b[0mconcatenate\u001b[0m\u001b[0;34m(\u001b[0m\u001b[0mtuple\u001b[0m\u001b[0;34m(\u001b[0m\u001b[0mjac\u001b[0m\u001b[0;34m)\u001b[0m\u001b[0;34m,\u001b[0m \u001b[0maxis\u001b[0m\u001b[0;34m=\u001b[0m\u001b[0;36m0\u001b[0m\u001b[0;34m)\u001b[0m\u001b[0;34m\u001b[0m\u001b[0;34m\u001b[0m\u001b[0m\n\u001b[0;32m---> 26\u001b[0;31m     \u001b[0;32mreturn\u001b[0m \u001b[0mder\u001b[0m\u001b[0;34m\u001b[0m\u001b[0;34m\u001b[0m\u001b[0m\n\u001b[0m",
      "\u001b[0;31mNameError\u001b[0m: name 'der' is not defined"
     ]
    }
   ],
   "source": [
    "res, targets, sources = run_optimization(X_train, Y_train, G, constraints=True)\n",
    "for i, node in enumerate(targets):\n",
    "    out_flux = res.x[np.where(sources==node)].sum()\n",
    "    print(f'{i}: total flux = {out_flux}, \\n weights = {res.x[np.where(sources==node)]}')"
   ]
  },
  {
   "cell_type": "code",
   "execution_count": 24,
   "metadata": {},
   "outputs": [],
   "source": [
    "def run_optimization(X_train, Y_train, G, init='static', constraints=True, ftol=0.001, maxiter=200):\n",
    "    \n",
    "    # add self loops to graph\n",
    "    G.add_edges_from([(n,n) for n in G.nodes])\n",
    "        \n",
    "    targets = [n for n, data in G.nodes(data=True) if data.get('boundary')]\n",
    "    sources = np.concatenate([list(G.neighbors(n)) for n in targets])\n",
    "\n",
    "    x0 = np.random.rand(sources.size)\n",
    "\n",
    "    cons = {'type': 'eq',\n",
    "            'fun' : lambda x: np.array([1-x[np.where(sources==i)[0]].sum() for i in targets])}\n",
    "\n",
    "    method = 'SLSQP'\n",
    "    bounds = Bounds(0, 1)\n",
    "\n",
    "    #method = 'L-BFGS-B'\n",
    "    #method = 'TNC'\n",
    "    #method = 'trust-constr'\n",
    "    \n",
    "    if constraints:\n",
    "        res = minimize(loss, x0, args=(X_train, Y_train, G, targets), \n",
    "                       bounds=bounds, method=method, constraints=cons, \n",
    "                       jac=jac, options={'ftol': ftol, 'disp': True, 'maxiter':maxiter})\n",
    "    else:\n",
    "        res = minimize(loss, x0, args=(X_train, Y_train, G, targets), bounds=bounds, method=method, \n",
    "                       jac=jac,  options={'ftol': ftol, 'disp': True, 'maxiter':maxiter})\n",
    "    \n",
    "    return res, targets, sources\n"
   ]
  },
  {
   "cell_type": "code",
   "execution_count": 23,
   "metadata": {},
   "outputs": [],
   "source": [
    "def loss(w, X_train, Y_train, G, targets):\n",
    "    \n",
    "    idx = 0\n",
    "    loss = 0\n",
    "    for node in targets:\n",
    "        neighbours = list(G.neighbors(node))\n",
    "        X = X_train[:,neighbours]\n",
    "        y = Y_train[node]\n",
    "        nn = len(neighbours)\n",
    "        loss += np.square(y - w[idx:idx+nn].T.dot(X.T)).sum() \n",
    "        idx += nn\n",
    "    return loss\n",
    "    \n",
    "def jac(w, X_train, Y_train, G, targets):\n",
    "    jac = []\n",
    "    idx = 0\n",
    "    for node in targets:\n",
    "        neighbours = list(G.neighbors(node))\n",
    "        X = X_train[:,neighbours]\n",
    "        y = Y_train[node]\n",
    "        nn = len(neighbours)\n",
    "        s = y - w[idx:idx+nn].T.dot(X.T)\n",
    "        jac.append(-2 * s.T.dot(X))\n",
    "        idx += nn\n",
    "    jac = np.concatenate(tuple(jac), axis=0)\n",
    "    return der"
   ]
  },
  {
   "cell_type": "code",
   "execution_count": null,
   "metadata": {},
   "outputs": [],
   "source": []
  }
 ],
 "metadata": {
  "kernelspec": {
   "display_name": "bird_vis",
   "language": "python",
   "name": "bird_vis"
  },
  "language_info": {
   "codemirror_mode": {
    "name": "ipython",
    "version": 3
   },
   "file_extension": ".py",
   "mimetype": "text/x-python",
   "name": "python",
   "nbconvert_exporter": "python",
   "pygments_lexer": "ipython3",
   "version": "3.8.1"
  }
 },
 "nbformat": 4,
 "nbformat_minor": 4
}
