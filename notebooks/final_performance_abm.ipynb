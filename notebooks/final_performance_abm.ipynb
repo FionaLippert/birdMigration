{
 "cells": [
  {
   "cell_type": "code",
   "execution_count": 1,
   "metadata": {},
   "outputs": [],
   "source": [
    "import pandas as pd\n",
    "import geopandas as gpd\n",
    "import numpy as np\n",
    "import scipy as sp\n",
    "import torch\n",
    "import os.path as osp\n",
    "import seaborn as sb\n",
    "from matplotlib import pyplot as plt\n",
    "import glob\n",
    "import utils\n",
    "from yaml import Loader, load\n",
    "import pickle5 as pickle\n",
    "from matplotlib import cm\n",
    "import itertools as it\n",
    "import networkx as nx\n",
    "import cartopy.crs as ccrs\n",
    "from cartopy.feature import ShapelyFeature\n",
    "from pyproj import Proj, transform\n",
    "from shapely import geometry\n",
    "import geoplot as gplt"
   ]
  },
  {
   "cell_type": "code",
   "execution_count": 4,
   "metadata": {},
   "outputs": [],
   "source": [
    "def load_cv_results(models, base_dir, year=2017, trials=5, ext='', fluxes=False):\n",
    "    results = dict()\n",
    "    bird_scales = dict()\n",
    "    all_fluxes = dict()\n",
    "    radar_idx = dict()\n",
    "    \n",
    "    for i, (m, d) in enumerate(models.items()):\n",
    "\n",
    "        # load predictions\n",
    "        model_dir = osp.join(base_dir, m)\n",
    "        result_list = []\n",
    "        radar_idx_list = []\n",
    "        for t in range(1, trials+1):\n",
    "            file = osp.join(model_dir, f'test_{year}', d, f'trial_{t}', f'results{ext}.csv')\n",
    "            if osp.isfile(file):\n",
    "                df = pd.read_csv(file)\n",
    "                df['trial'] = t\n",
    "                result_list.append(df)\n",
    "            \n",
    "            radar_path = osp.join(osp.dirname(file), 'radar_index.pickle')\n",
    "            if osp.isfile(radar_path):\n",
    "                with open(radar_path, 'rb') as f:\n",
    "                    radar_idx_list.append(pickle.load(f))\n",
    "        radar_idx[m] = radar_idx_list\n",
    "        results[m] = pd.concat(result_list)\n",
    "        \n",
    "        print(f'successfully loaded results for {m}')\n",
    "        \n",
    "        # load fluxes\n",
    "        if fluxes and 'Flux' in m:\n",
    "            m_fluxes = [dict(), dict()]\n",
    "            for t in range(1, trials+1):\n",
    "                sub_dir = osp.join(model_dir, f'test_{year}', d, f'trial_{t}')\n",
    "                          \n",
    "                with open(osp.join(sub_dir, f'radar_fluxes{ext}.pickle'), 'rb') as f:\n",
    "                    m_fluxes[0][t] = pickle.load(f)\n",
    "                          \n",
    "                with open(osp.join(sub_dir, f'model_fluxes{ext}.pickle'), 'rb') as f:\n",
    "                    m_fluxes[1][t] = pickle.load(f)\n",
    "    \n",
    "            all_fluxes[m] = m_fluxes\n",
    "\n",
    "    return results, bird_scales, all_fluxes, radar_idx"
   ]
  },
  {
   "cell_type": "code",
   "execution_count": 5,
   "metadata": {},
   "outputs": [],
   "source": [
    "def compute_rmse(m, results, groupby='fold', threshold=0, km2=True):\n",
    "    \n",
    "    ext = '_km2' if km2 else ''\n",
    "        \n",
    "    results[f'squared_error{ext}'] = results[f'residual{ext}'].pow(2)\n",
    "    df = results.query(f'missing == 0 & gt{ext} >= {threshold}')\n",
    "    rmse = df.groupby(groupby)[f'squared_error{ext}'].aggregate(np.mean).apply(np.sqrt)\n",
    "    rmse = rmse.reset_index(name='rmse')\n",
    "    rmse['model'] = m\n",
    "    \n",
    "    return rmse"
   ]
  },
  {
   "cell_type": "code",
   "execution_count": 6,
   "metadata": {},
   "outputs": [],
   "source": [
    "def plot_fluxes(voronoi, G, all_fluxes, results, fold=0, model=1, context=24, horizon=64, bird_scale=1, \n",
    "                net_fluxes=False, abm=False, ax=None, crs=None, max_flux=0):\n",
    "\n",
    "    G_new = nx.DiGraph()\n",
    "    G_new.add_nodes_from(list(G.nodes(data=True)))\n",
    "\n",
    "    if abm:\n",
    "        f = np.concatenate([f[..., :horizon+1] for f in all_fluxes.values()], axis=-1)\n",
    "        mask = np.concatenate([results.query(f'seqID == {i+encoder}').groupby('horizon').night.all().values \n",
    "                           for i in range(len(all_fluxes))])\n",
    "    else:\n",
    "        print(len(all_fluxes[fold]), results.horizon.unique())\n",
    "        if model:\n",
    "            f = torch.cat([f for f in all_fluxes[fold].values()], dim=-1).detach().numpy()\n",
    "        else:\n",
    "            f = torch.cat([f[..., context:context+horizon] for f in all_fluxes[fold].values()], dim=-1).detach().numpy()\n",
    "        mask = np.concatenate([results.query(f'seqID == {i} & horizon >= {context}').groupby('horizon').night.all().values \n",
    "                           for i in range(len(all_fluxes[fold]))])\n",
    "\n",
    "\n",
    "    #radars = results.radar.unique()\n",
    "    radars = voronoi.radar.values\n",
    "    for i, ri in enumerate(radars):\n",
    "        for j, rj in enumerate(radars):\n",
    "            val = np.nanmean(f[j,i,mask]) #- np.nanmean(f[i,j,mask].detach().numpy())\n",
    "            val2 = np.nanmean(f[i,j,mask])\n",
    "            #print(val)\n",
    "            if net_fluxes:\n",
    "                val = val - val2\n",
    "            if val > 0 and i !=j :\n",
    "                boundary1 = ('boundary' in ri) and ('boundary' in rj)\n",
    "                boundary2 = voronoi.query(f'radar == \"{ri}\" or radar == \"{rj}\"')['boundary'].all()\n",
    "                #if val > 0 and not boundary1 and not boundary2:\n",
    "#                 if not boundary1 and not boundary2:\n",
    "#                     print(i, ri, j, rj, val, val2)\n",
    "                if not boundary1 and not boundary2:\n",
    "                    G_new.add_edge(j, i, flux=val)\n",
    "\n",
    "    \n",
    "\n",
    "    coord_df = gpd.GeoDataFrame(dict(radar = voronoi.radar, \n",
    "                                 geometry = [geometry.Point((row.lon, row.lat)) for i, row in voronoi.iterrows()]), \n",
    "                                crs='epsg:4326').to_crs(crs)\n",
    "    pos = {ridx: (coord_df.query(f'radar == \"{name}\"').geometry.iloc[0].x, coord_df.query(f'radar == \"{name}\"').geometry.iloc[0].y) for \n",
    "           (ridx, name) in nx.get_node_attributes(G_new, 'radar').items()}\n",
    "#     pos = {ridx: (voronoi.query(f'radar == \"{name}\"').x.values[0], voronoi.query(f'radar == \"{name}\"').y.values[0]) for \n",
    "#            (ridx, name) in nx.get_node_attributes(G_new, 'radar').items()}\n",
    "\n",
    "    fluxes = np.array(list(nx.get_edge_attributes(G_new,'flux').values()))\n",
    "    edge_widths =  fluxes / (0.25 * np.abs(fluxes).max()) + 0.5\n",
    "\n",
    "    node_colors = ['#999999' if 'boundary' in n_data['radar'] else '#0086b3' for n, n_data in G_new.nodes(data=True)]\n",
    "    \n",
    "    cmap = cm.get_cmap('YlOrRd')\n",
    "    fluxes *= bird_scale\n",
    "    max_flux = max(max_flux, fluxes.max())\n",
    "    norm = plt.Normalize(0, max_flux)\n",
    "    #print(fluxes.min(), fluxes.max())\n",
    "    #print(nx.get_edge_attributes(G_new, 'flux'))\n",
    "    edge_colors = cmap(norm(fluxes))\n",
    "\n",
    "    if ax is None:\n",
    "        fig, ax = plt.subplots(figsize=(12,8))\n",
    "    options = {\n",
    "        'arrowsize': 30,\n",
    "    }\n",
    "    nx.draw(G_new, pos=pos, with_labels=False, node_size=200, node_color=node_colors, width=edge_widths, ax=ax, \n",
    "            options={'arrowsize': edge_widths*100}, connectionstyle=\"arc3,rad=0.1\", edge_color=edge_colors)\n",
    "    if abm:\n",
    "        ax.set(title='averaged simulated fluxes between radars')\n",
    "    else:\n",
    "        ax.set(title='averaged inferred fluxes between radars')\n",
    "    sm = plt.cm.ScalarMappable(cmap=cmap, norm=norm)\n",
    "    plt.colorbar(sm, label='bird density');\n",
    "    return G_new, ax, max_flux"
   ]
  },
  {
   "cell_type": "code",
   "execution_count": 5,
   "metadata": {},
   "outputs": [],
   "source": [
    "base_dir = '/home/fiona/birdMigration/results/abm'"
   ]
  },
  {
   "cell_type": "code",
   "execution_count": 7,
   "metadata": {},
   "outputs": [],
   "source": [
    "models = ['GAM', 'LocalMLP', 'LocalLSTM', 'FluxGraphLSTM']\n",
    "ext = '_fixedT0'\n",
    "all_rmse = []\n",
    "all_rmse_per_h = []\n",
    "for m in models:\n",
    "    all_rmse.append(pd.read_csv(osp.join(base_dir, f'nested_cv_{m}', 'performance_evaluation', f'rmse_per_fold_thr0{ext}.csv')))\n",
    "    all_rmse_per_h.append(pd.read_csv(osp.join(base_dir, f'nested_cv_{m}', 'performance_evaluation', f'rmse_per_hour_thr0{ext}.csv')))\n",
    "df_rmse = pd.concat(all_rmse)\n",
    "df_rmse_h = pd.concat(all_rmse_per_h)"
   ]
  },
  {
   "cell_type": "code",
   "execution_count": null,
   "metadata": {},
   "outputs": [],
   "source": [
    "models = {'GAM': 'final_evaluation', 'GBT': 'final_evaluation'}\n",
    "r, _, _, ridx = load_cv_results(models, base_dir, ext='', fluxes=False, trials=1)"
   ]
  },
  {
   "cell_type": "code",
   "execution_count": 22,
   "metadata": {},
   "outputs": [
    {
     "data": {
      "text/plain": [
       "<matplotlib.axes._subplots.AxesSubplot at 0x7fe0745841d0>"
      ]
     },
     "execution_count": 22,
     "metadata": {},
     "output_type": "execute_result"
    },
    {
     "data": {
      "image/png": "[encoded data removed]",
      "text/plain": [
       "<Figure size 1440x288 with 1 Axes>"
      ]
     },
     "metadata": {
      "needs_background": "light"
     },
     "output_type": "display_data"
    }
   ],
   "source": [
    "fig, ax = plt.subplots(figsize=(20,4))\n",
    "radar = 'frniz'\n",
    "r['GAM'].query(f'radar == \"{radar}\"').groupby('datetime').gt.aggregate(np.nanmean).plot(ax=ax)\n",
    "r['GAM'].query(f'radar == \"{radar}\"').groupby('datetime').prediction.aggregate(np.nanmean).plot(ax=ax)\n",
    "r['GBT'].query(f'radar == \"{radar}\"').groupby('datetime').prediction.aggregate(np.nanmean).plot(ax=ax)"
   ]
  },
  {
   "cell_type": "code",
   "execution_count": null,
   "metadata": {},
   "outputs": [],
   "source": []
  }
 ],
 "metadata": {
  "kernelspec": {
   "display_name": "birds",
   "language": "python",
   "name": "birds"
  },
  "language_info": {
   "codemirror_mode": {
    "name": "ipython",
    "version": 3
   },
   "file_extension": ".py",
   "mimetype": "text/x-python",
   "name": "python",
   "nbconvert_exporter": "python",
   "pygments_lexer": "ipython3",
   "version": "3.7.6"
  }
 },
 "nbformat": 4,
 "nbformat_minor": 4
}
