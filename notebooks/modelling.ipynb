{
 "cells": [
  {
   "cell_type": "code",
   "execution_count": 6,
   "metadata": {},
   "outputs": [],
   "source": [
    "from pgmpy.models import DynamicBayesianNetwork as DBN\n",
    "from pgmpy.base import DAG\n",
    "import itertools as it\n",
    "\n",
    "import sys\n",
    "sys.path.append('../spatial_correlation')\n",
    "from data_loader import *\n",
    "from spatial import Spatial"
   ]
  },
  {
   "cell_type": "code",
   "execution_count": 8,
   "metadata": {},
   "outputs": [],
   "source": [
    "# load radar data\n",
    "\n",
    "path = '/home/fiona/radar_data/vpi/night_only/20160801T0000_to_20161130T2359'\n",
    "begin = '2016-09-01'\n",
    "end = '2016-11-01'\n",
    "\n",
    "vid_data, names, t_range = load_data(path, 'vid', begin, end, '1H', mask_days=True)\n",
    "nodes = list(names.values())\n",
    "N = len(nodes)"
   ]
  },
  {
   "cell_type": "code",
   "execution_count": 5,
   "metadata": {},
   "outputs": [],
   "source": [
    "# define neighbourhood structure\n",
    "\n",
    "spatial = Spatial(names)\n",
    "spatial.voronoi();"
   ]
  },
  {
   "cell_type": "code",
   "execution_count": 15,
   "metadata": {},
   "outputs": [],
   "source": [
    "model = DAG()\n",
    "model.add_nodes_from(nodes)\n",
    "\n",
    "for i, j in it.permutations(range(N), 2):\n",
    "    if spatial.adj[i,j] > 0:\n",
    "        model.add_edge((nodes[i], 0), (nodes[j], 1))"
   ]
  },
  {
   "cell_type": "code",
   "execution_count": 16,
   "metadata": {},
   "outputs": [
    {
     "data": {
      "text/plain": [
       "OutEdgeView([(('DE/MEM', 0), ('DE/ISN', 1)), (('DE/MEM', 0), ('DE/TUR', 1)), (('DE/MEM', 0), ('DE/FBG', 1)), (('DE/ISN', 0), ('DE/MEM', 1)), (('DE/ISN', 0), ('DE/TUR', 1)), (('DE/ISN', 0), ('DE/EIS', 1)), (('DE/ESS', 0), ('DE/OFT', 1)), (('DE/ESS', 0), ('BE/ZAV', 1)), (('DE/ESS', 0), ('DE/NHB', 1)), (('DE/ESS', 0), ('DE/HNR', 1)), (('DE/ESS', 0), ('DE/FLD', 1)), (('DE/ESS', 0), ('DE/EMD', 1)), (('DE/ESS', 0), ('NL/DBL', 1)), (('DE/PRO', 0), ('DE/UMD', 1)), (('DE/PRO', 0), ('DE/ROS', 1)), (('DE/PRO', 0), ('DE/DRS', 1)), (('DE/OFT', 0), ('DE/ESS', 1)), (('DE/OFT', 0), ('DE/TUR', 1)), (('DE/OFT', 0), ('DE/FBG', 1)), (('DE/OFT', 0), ('DE/NEU', 1)), (('DE/OFT', 0), ('DE/NHB', 1)), (('DE/OFT', 0), ('DE/FLD', 1)), (('DE/TUR', 0), ('DE/MEM', 1)), (('DE/TUR', 0), ('DE/ISN', 1)), (('DE/TUR', 0), ('DE/OFT', 1)), (('DE/TUR', 0), ('DE/EIS', 1)), (('DE/TUR', 0), ('DE/FBG', 1)), (('DE/TUR', 0), ('DE/NEU', 1)), (('DE/UMD', 0), ('DE/PRO', 1)), (('DE/UMD', 0), ('DE/NEU', 1)), (('DE/UMD', 0), ('DE/HNR', 1)), (('DE/UMD', 0), ('DE/ROS', 1)), (('DE/UMD', 0), ('DE/FLD', 1)), (('DE/UMD', 0), ('DE/BOO', 1)), (('DE/UMD', 0), ('DE/DRS', 1)), (('BE/ZAV', 0), ('DE/ESS', 1)), (('BE/ZAV', 0), ('DE/NHB', 1)), (('BE/ZAV', 0), ('BE/WID', 1)), (('BE/ZAV', 0), ('BE/JAB', 1)), (('BE/ZAV', 0), ('NL/DBL', 1)), (('DE/EIS', 0), ('DE/ISN', 1)), (('DE/EIS', 0), ('DE/TUR', 1)), (('DE/EIS', 0), ('DE/NEU', 1)), (('DE/EIS', 0), ('DE/DRS', 1)), (('DE/FBG', 0), ('DE/MEM', 1)), (('DE/FBG', 0), ('DE/OFT', 1)), (('DE/FBG', 0), ('DE/TUR', 1)), (('DE/FBG', 0), ('DE/NHB', 1)), (('DE/FBG', 0), ('BE/WID', 1)), (('DE/NEU', 0), ('DE/OFT', 1)), (('DE/NEU', 0), ('DE/TUR', 1)), (('DE/NEU', 0), ('DE/UMD', 1)), (('DE/NEU', 0), ('DE/EIS', 1)), (('DE/NEU', 0), ('DE/FLD', 1)), (('DE/NEU', 0), ('DE/DRS', 1)), (('DE/NHB', 0), ('DE/ESS', 1)), (('DE/NHB', 0), ('DE/OFT', 1)), (('DE/NHB', 0), ('BE/ZAV', 1)), (('DE/NHB', 0), ('DE/FBG', 1)), (('DE/NHB', 0), ('BE/WID', 1)), (('DE/HNR', 0), ('DE/ESS', 1)), (('DE/HNR', 0), ('DE/UMD', 1)), (('DE/HNR', 0), ('DE/FLD', 1)), (('DE/HNR', 0), ('DE/BOO', 1)), (('DE/HNR', 0), ('DE/EMD', 1)), (('DE/ROS', 0), ('DE/PRO', 1)), (('DE/ROS', 0), ('DE/UMD', 1)), (('DE/ROS', 0), ('DE/BOO', 1)), (('BE/WID', 0), ('BE/ZAV', 1)), (('BE/WID', 0), ('DE/FBG', 1)), (('BE/WID', 0), ('DE/NHB', 1)), (('BE/JAB', 0), ('BE/ZAV', 1)), (('BE/JAB', 0), ('NL/DBL', 1)), (('BE/JAB', 0), ('NL/DHL', 1)), (('DE/FLD', 0), ('DE/ESS', 1)), (('DE/FLD', 0), ('DE/OFT', 1)), (('DE/FLD', 0), ('DE/UMD', 1)), (('DE/FLD', 0), ('DE/NEU', 1)), (('DE/FLD', 0), ('DE/HNR', 1)), (('DE/BOO', 0), ('DE/UMD', 1)), (('DE/BOO', 0), ('DE/HNR', 1)), (('DE/BOO', 0), ('DE/ROS', 1)), (('DE/BOO', 0), ('DE/EMD', 1)), (('DE/EMD', 0), ('DE/ESS', 1)), (('DE/EMD', 0), ('DE/HNR', 1)), (('DE/EMD', 0), ('DE/BOO', 1)), (('DE/EMD', 0), ('NL/DBL', 1)), (('DE/EMD', 0), ('NL/DHL', 1)), (('DE/DRS', 0), ('DE/PRO', 1)), (('DE/DRS', 0), ('DE/UMD', 1)), (('DE/DRS', 0), ('DE/EIS', 1)), (('DE/DRS', 0), ('DE/NEU', 1)), (('NL/DBL', 0), ('DE/ESS', 1)), (('NL/DBL', 0), ('BE/ZAV', 1)), (('NL/DBL', 0), ('BE/JAB', 1)), (('NL/DBL', 0), ('DE/EMD', 1)), (('NL/DBL', 0), ('NL/DHL', 1)), (('NL/DHL', 0), ('BE/JAB', 1)), (('NL/DHL', 0), ('DE/EMD', 1)), (('NL/DHL', 0), ('NL/DBL', 1))])"
      ]
     },
     "execution_count": 16,
     "metadata": {},
     "output_type": "execute_result"
    }
   ],
   "source": [
    "model.edges()"
   ]
  },
  {
   "cell_type": "code",
   "execution_count": null,
   "metadata": {},
   "outputs": [],
   "source": []
  }
 ],
 "metadata": {
  "kernelspec": {
   "display_name": "bird_vis",
   "language": "python",
   "name": "bird_vis"
  },
  "language_info": {
   "codemirror_mode": {
    "name": "ipython",
    "version": 3
   },
   "file_extension": ".py",
   "mimetype": "text/x-python",
   "name": "python",
   "nbconvert_exporter": "python",
   "pygments_lexer": "ipython3",
   "version": "3.8.1"
  }
 },
 "nbformat": 4,
 "nbformat_minor": 4
}
