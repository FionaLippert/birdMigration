{
 "cells": [
  {
   "cell_type": "code",
   "execution_count": 1,
   "metadata": {},
   "outputs": [],
   "source": [
    "import rasterio as rio\n",
    "from rasterio.plot import show\n",
    "import numpy as np\n",
    "from matplotlib import cm, pyplot as plt\n",
    "from matplotlib.colors import LogNorm\n",
    "\n",
    "from ipyleaflet import Map, Marker\n",
    "import ipywidgets as widgets\n",
    "import folium\n",
    "from sidecar import Sidecar\n",
    "import xarray\n",
    "from PIL import Image\n",
    "\n",
    "from ipyleaflet import Map, ImageOverlay, basemaps, basemap_to_tiles, WidgetControl\n",
    "import pathlib, os, tempfile\n",
    "from base64 import b64encode\n",
    "from ipywidgets import IntSlider, SelectionSlider, VBox\n",
    "from sidecar import Sidecar"
   ]
  },
  {
   "cell_type": "code",
   "execution_count": 2,
   "metadata": {},
   "outputs": [
    {
     "data": {
      "text/plain": [
       "[[44.90833862304688, -1.9407999999999994], [57.94833862304688, 10.4992]]"
      ]
     },
     "execution_count": 2,
     "metadata": {},
     "output_type": "execute_result"
    }
   ],
   "source": [
    "data = rio.open('../R/test_dataset.tif')\n",
    "data_bounds = (data.bounds.left, data.bounds.right, \\\n",
    "          data.bounds.bottom, data.bounds.top)\n",
    "bounds_arr = [[data.bounds.bottom, data.bounds.left], \\\n",
    "                  [data.bounds.top, data.bounds.right]]\n",
    "bounds_arr"
   ]
  },
  {
   "cell_type": "code",
   "execution_count": null,
   "metadata": {},
   "outputs": [],
   "source": [
    "# transform pixel coordinates to lat long --> create heatmap to visualize with folium\n",
    "rio.transform.xy(data.transform, 0, 0)"
   ]
  },
  {
   "cell_type": "code",
   "execution_count": null,
   "metadata": {},
   "outputs": [],
   "source": [
    "def raster_to_heatmaps(raster_ts):\n",
    "    ..."
   ]
  },
  {
   "cell_type": "code",
   "execution_count": 4,
   "metadata": {},
   "outputs": [],
   "source": [
    "def raster_to_pngs(raster_data, colormap=cm.rainbow):\n",
    "    img_arr = raster_data.read()\n",
    "    img_arr[img_arr==0] = np.nan\n",
    "    img_arr = np.log(img_arr)\n",
    "    img_arr = (img_arr - np.nanmin(img_arr)) / (np.nanmax(img_arr) - np.nanmin(img_arr))\n",
    "    img_arr = np.uint8(colormap(img_arr)*255)\n",
    "    \n",
    "    os.makedirs('./png', exist_ok=True)\n",
    "    \n",
    "    for i in range(img_arr.shape[0]):\n",
    "        im = Image.fromarray(img_arr[i])\n",
    "        im.save(f'png/{i}.png','PNG')"
   ]
  },
  {
   "cell_type": "code",
   "execution_count": 5,
   "metadata": {},
   "outputs": [],
   "source": [
    "raster_to_pngs(data)"
   ]
  },
  {
   "cell_type": "code",
   "execution_count": 61,
   "metadata": {},
   "outputs": [
    {
     "data": {
      "text/plain": [
       "<class 'netCDF4._netCDF4.Dataset'>\n",
       "root group (NETCDF3_CLASSIC data model, file format NETCDF3):\n",
       "    Conventions: CF-1.5\n",
       "    GDAL: GDAL 2.4.2, released 2019/06/28\n",
       "    history: do mrt 12 17:26:10 2020: GDAL Create( test_dataset.nc, ... )\n",
       "    dimensions(sizes): lon(1244), lat(1304)\n",
       "    variables(dimensions): float32 Band1(lat,lon), float32 Band2(lat,lon), float32 Band3(lat,lon), float32 Band4(lat,lon), float32 Band5(lat,lon), float32 Band6(lat,lon), float32 Band7(lat,lon), float32 Band8(lat,lon), float32 Band9(lat,lon), |S1 crs(), float64 lat(lat), float64 lon(lon)\n",
       "    groups: "
      ]
     },
     "execution_count": 61,
     "metadata": {},
     "output_type": "execute_result"
    }
   ],
   "source": [
    "#dataset = xarray.open_dataset('../R/test_dataset.nc')\n",
    "#dataset.variables['sst']\n",
    "from netCDF4 import Dataset as netcdf_dataset\n",
    "dataset = netcdf_dataset('../R/test_dataset.nc')\n",
    "dataset"
   ]
  },
  {
   "cell_type": "code",
   "execution_count": 156,
   "metadata": {},
   "outputs": [
    {
     "ename": "TypeError",
     "evalue": "unhashable type: 'list'",
     "output_type": "error",
     "traceback": [
      "\u001b[0;31m---------------------------------------------------------------------------\u001b[0m",
      "\u001b[0;31mTypeError\u001b[0m                                 Traceback (most recent call last)",
      "\u001b[0;32m<ipython-input-156-0f4f22a2ca95>\u001b[0m in \u001b[0;36m<module>\u001b[0;34m\u001b[0m\n\u001b[1;32m      6\u001b[0m \u001b[0;34m\u001b[0m\u001b[0m\n\u001b[1;32m      7\u001b[0m \u001b[0mfig\u001b[0m\u001b[0;34m,\u001b[0m \u001b[0max\u001b[0m \u001b[0;34m=\u001b[0m \u001b[0mplt\u001b[0m\u001b[0;34m.\u001b[0m\u001b[0msubplots\u001b[0m\u001b[0;34m(\u001b[0m\u001b[0mfigsize\u001b[0m\u001b[0;34m=\u001b[0m\u001b[0;34m(\u001b[0m\u001b[0;36m10\u001b[0m\u001b[0;34m,\u001b[0m\u001b[0;36m10\u001b[0m\u001b[0;34m)\u001b[0m\u001b[0;34m)\u001b[0m\u001b[0;34m\u001b[0m\u001b[0;34m\u001b[0m\u001b[0m\n\u001b[0;32m----> 8\u001b[0;31m \u001b[0max\u001b[0m \u001b[0;34m=\u001b[0m \u001b[0mplt\u001b[0m\u001b[0;34m.\u001b[0m\u001b[0maxes\u001b[0m\u001b[0;34m(\u001b[0m\u001b[0mprojection\u001b[0m\u001b[0;34m=\u001b[0m\u001b[0mccrs\u001b[0m\u001b[0;34m.\u001b[0m\u001b[0mPlateCarree\u001b[0m\u001b[0;34m(\u001b[0m\u001b[0;34m)\u001b[0m\u001b[0;34m,\u001b[0m \u001b[0mextent\u001b[0m\u001b[0;34m=\u001b[0m\u001b[0mbounds_arr\u001b[0m\u001b[0;34m)\u001b[0m\u001b[0;34m\u001b[0m\u001b[0;34m\u001b[0m\u001b[0m\n\u001b[0m\u001b[1;32m      9\u001b[0m \u001b[0;34m\u001b[0m\u001b[0m\n\u001b[1;32m     10\u001b[0m \u001b[0msignal\u001b[0m \u001b[0;34m=\u001b[0m \u001b[0mnp\u001b[0m\u001b[0;34m.\u001b[0m\u001b[0mlog\u001b[0m\u001b[0;34m(\u001b[0m\u001b[0msignal\u001b[0m\u001b[0;34m)\u001b[0m\u001b[0;34m\u001b[0m\u001b[0;34m\u001b[0m\u001b[0m\n",
      "\u001b[0;32m~/anaconda3/envs/bird_vis/lib/python3.8/site-packages/matplotlib/pyplot.py\u001b[0m in \u001b[0;36maxes\u001b[0;34m(arg, **kwargs)\u001b[0m\n\u001b[1;32m    828\u001b[0m \u001b[0;34m\u001b[0m\u001b[0m\n\u001b[1;32m    829\u001b[0m     \u001b[0;32mif\u001b[0m \u001b[0marg\u001b[0m \u001b[0;32mis\u001b[0m \u001b[0;32mNone\u001b[0m\u001b[0;34m:\u001b[0m\u001b[0;34m\u001b[0m\u001b[0;34m\u001b[0m\u001b[0m\n\u001b[0;32m--> 830\u001b[0;31m         \u001b[0;32mreturn\u001b[0m \u001b[0msubplot\u001b[0m\u001b[0;34m(\u001b[0m\u001b[0;36m111\u001b[0m\u001b[0;34m,\u001b[0m \u001b[0;34m**\u001b[0m\u001b[0mkwargs\u001b[0m\u001b[0;34m)\u001b[0m\u001b[0;34m\u001b[0m\u001b[0;34m\u001b[0m\u001b[0m\n\u001b[0m\u001b[1;32m    831\u001b[0m     \u001b[0;32melse\u001b[0m\u001b[0;34m:\u001b[0m\u001b[0;34m\u001b[0m\u001b[0;34m\u001b[0m\u001b[0m\n\u001b[1;32m    832\u001b[0m         \u001b[0;32mreturn\u001b[0m \u001b[0mgcf\u001b[0m\u001b[0;34m(\u001b[0m\u001b[0;34m)\u001b[0m\u001b[0;34m.\u001b[0m\u001b[0madd_axes\u001b[0m\u001b[0;34m(\u001b[0m\u001b[0marg\u001b[0m\u001b[0;34m,\u001b[0m \u001b[0;34m**\u001b[0m\u001b[0mkwargs\u001b[0m\u001b[0;34m)\u001b[0m\u001b[0;34m\u001b[0m\u001b[0;34m\u001b[0m\u001b[0m\n",
      "\u001b[0;32m~/anaconda3/envs/bird_vis/lib/python3.8/site-packages/matplotlib/pyplot.py\u001b[0m in \u001b[0;36msubplot\u001b[0;34m(*args, **kwargs)\u001b[0m\n\u001b[1;32m   1028\u001b[0m \u001b[0;34m\u001b[0m\u001b[0m\n\u001b[1;32m   1029\u001b[0m     \u001b[0mfig\u001b[0m \u001b[0;34m=\u001b[0m \u001b[0mgcf\u001b[0m\u001b[0;34m(\u001b[0m\u001b[0;34m)\u001b[0m\u001b[0;34m\u001b[0m\u001b[0;34m\u001b[0m\u001b[0m\n\u001b[0;32m-> 1030\u001b[0;31m     \u001b[0ma\u001b[0m \u001b[0;34m=\u001b[0m \u001b[0mfig\u001b[0m\u001b[0;34m.\u001b[0m\u001b[0madd_subplot\u001b[0m\u001b[0;34m(\u001b[0m\u001b[0;34m*\u001b[0m\u001b[0margs\u001b[0m\u001b[0;34m,\u001b[0m \u001b[0;34m**\u001b[0m\u001b[0mkwargs\u001b[0m\u001b[0;34m)\u001b[0m\u001b[0;34m\u001b[0m\u001b[0;34m\u001b[0m\u001b[0m\n\u001b[0m\u001b[1;32m   1031\u001b[0m     \u001b[0mbbox\u001b[0m \u001b[0;34m=\u001b[0m \u001b[0ma\u001b[0m\u001b[0;34m.\u001b[0m\u001b[0mbbox\u001b[0m\u001b[0;34m\u001b[0m\u001b[0;34m\u001b[0m\u001b[0m\n\u001b[1;32m   1032\u001b[0m     \u001b[0mbyebye\u001b[0m \u001b[0;34m=\u001b[0m \u001b[0;34m[\u001b[0m\u001b[0;34m]\u001b[0m\u001b[0;34m\u001b[0m\u001b[0;34m\u001b[0m\u001b[0m\n",
      "\u001b[0;32m~/anaconda3/envs/bird_vis/lib/python3.8/site-packages/matplotlib/figure.py\u001b[0m in \u001b[0;36madd_subplot\u001b[0;34m(self, *args, **kwargs)\u001b[0m\n\u001b[1;32m   1402\u001b[0m \u001b[0;34m\u001b[0m\u001b[0m\n\u001b[1;32m   1403\u001b[0m             \u001b[0;31m# try to find the axes with this key in the stack\u001b[0m\u001b[0;34m\u001b[0m\u001b[0;34m\u001b[0m\u001b[0;34m\u001b[0m\u001b[0m\n\u001b[0;32m-> 1404\u001b[0;31m             \u001b[0max\u001b[0m \u001b[0;34m=\u001b[0m \u001b[0mself\u001b[0m\u001b[0;34m.\u001b[0m\u001b[0m_axstack\u001b[0m\u001b[0;34m.\u001b[0m\u001b[0mget\u001b[0m\u001b[0;34m(\u001b[0m\u001b[0mkey\u001b[0m\u001b[0;34m)\u001b[0m\u001b[0;34m\u001b[0m\u001b[0;34m\u001b[0m\u001b[0m\n\u001b[0m\u001b[1;32m   1405\u001b[0m \u001b[0;34m\u001b[0m\u001b[0m\n\u001b[1;32m   1406\u001b[0m             \u001b[0;32mif\u001b[0m \u001b[0max\u001b[0m \u001b[0;32mis\u001b[0m \u001b[0;32mnot\u001b[0m \u001b[0;32mNone\u001b[0m\u001b[0;34m:\u001b[0m\u001b[0;34m\u001b[0m\u001b[0;34m\u001b[0m\u001b[0m\n",
      "\u001b[0;32m~/anaconda3/envs/bird_vis/lib/python3.8/site-packages/matplotlib/figure.py\u001b[0m in \u001b[0;36mget\u001b[0;34m(self, key)\u001b[0m\n\u001b[1;32m     81\u001b[0m         \u001b[0mIf\u001b[0m \u001b[0mit\u001b[0m \u001b[0;32mis\u001b[0m \u001b[0;32mnot\u001b[0m \u001b[0mpresent\u001b[0m\u001b[0;34m,\u001b[0m \u001b[0;32mreturn\u001b[0m \u001b[0;34m*\u001b[0m\u001b[0;32mNone\u001b[0m\u001b[0;34m*\u001b[0m\u001b[0;34m.\u001b[0m\u001b[0;34m\u001b[0m\u001b[0;34m\u001b[0m\u001b[0m\n\u001b[1;32m     82\u001b[0m         \"\"\"\n\u001b[0;32m---> 83\u001b[0;31m         \u001b[0mitem\u001b[0m \u001b[0;34m=\u001b[0m \u001b[0mdict\u001b[0m\u001b[0;34m(\u001b[0m\u001b[0mself\u001b[0m\u001b[0;34m.\u001b[0m\u001b[0m_elements\u001b[0m\u001b[0;34m)\u001b[0m\u001b[0;34m.\u001b[0m\u001b[0mget\u001b[0m\u001b[0;34m(\u001b[0m\u001b[0mkey\u001b[0m\u001b[0;34m)\u001b[0m\u001b[0;34m\u001b[0m\u001b[0;34m\u001b[0m\u001b[0m\n\u001b[0m\u001b[1;32m     84\u001b[0m         \u001b[0;32mif\u001b[0m \u001b[0mitem\u001b[0m \u001b[0;32mis\u001b[0m \u001b[0;32mNone\u001b[0m\u001b[0;34m:\u001b[0m\u001b[0;34m\u001b[0m\u001b[0;34m\u001b[0m\u001b[0m\n\u001b[1;32m     85\u001b[0m             \u001b[0;32mreturn\u001b[0m \u001b[0;32mNone\u001b[0m\u001b[0;34m\u001b[0m\u001b[0;34m\u001b[0m\u001b[0m\n",
      "\u001b[0;31mTypeError\u001b[0m: unhashable type: 'list'"
     ]
    },
    {
     "data": {
      "image/png": "[encoded data removed]",
      "text/plain": [
       "<Figure size 720x720 with 1 Axes>"
      ]
     },
     "metadata": {
      "needs_background": "light"
     },
     "output_type": "display_data"
    }
   ],
   "source": [
    "signal = dataset.variables['Band1'][:, :]\n",
    "lats = dataset.variables['lat'][:]\n",
    "lons = dataset.variables['lon'][:]\n",
    "\n",
    "#print(signal)\n",
    "\n",
    "fig, ax = plt.subplots(figsize=(10,10))\n",
    "ax = plt.axes(projection=ccrs.PlateCarree(), extent=bounds_arr)\n",
    "  \n",
    "signal = np.log(signal)\n",
    "signal = (signal - np.nanmin(signal)) / (np.nanmax(signal) - np.nanmin(signal))\n",
    "\n",
    "#print(signal)\n",
    "\n",
    "plt.contourf(lons, lats, signal, 60,\n",
    "             transform=ccrs.PlateCarree(), alpha=0.5)\n",
    "\n",
    "ax.coastlines(resolution='50m')\n",
    "#ax.stock_img()\n",
    "\n",
    "sc = Slider()\n",
    "with sc:\n",
    "    fig.show()"
   ]
  },
  {
   "cell_type": "code",
   "execution_count": 6,
   "metadata": {},
   "outputs": [
    {
     "data": {
      "text/plain": [
       "{'driver': 'GTiff',\n",
       " 'dtype': 'float32',\n",
       " 'nodata': None,\n",
       " 'width': 1244,\n",
       " 'height': 1304,\n",
       " 'count': 9,\n",
       " 'crs': CRS.from_epsg(4326),\n",
       " 'transform': Affine(0.01, 0.0, -1.9407999999999994,\n",
       "        0.0, -0.01, 57.94833862304688)}"
      ]
     },
     "execution_count": 6,
     "metadata": {},
     "output_type": "execute_result"
    }
   ],
   "source": [
    "data.meta"
   ]
  },
  {
   "cell_type": "code",
   "execution_count": 6,
   "metadata": {},
   "outputs": [
    {
     "data": {
      "application/vnd.jupyter.widget-view+json": {
       "model_id": "8d4fa689f8ef4b669daa48d63be73704",
       "version_major": 2,
       "version_minor": 0
      },
      "text/plain": [
       "Map(center=[51.42833862304688, 4.2792], controls=(ZoomControl(options=['position', 'zoom_in_text', 'zoom_in_ti…"
      ]
     },
     "metadata": {},
     "output_type": "display_data"
    }
   ],
   "source": [
    "bounds=((data.bounds.bottom, data.bounds.left), \\\n",
    "                 (data.bounds.top, data.bounds.right))\n",
    "\n",
    "center = ((bounds[0][0]+bounds[1][0])/2,(bounds[0][1]+bounds[1][1])/2)\n",
    "m = Map(center=center, zoom=6)\n",
    "\n",
    "time_range = range(data.read().shape[0])\n",
    "\n",
    "slider = SelectionSlider(description='time step:', \n",
    "                   options=time_range, \n",
    "                   orientation='horizontal'\n",
    ")\n",
    "widget_control = WidgetControl(widget=slider, position='topright')\n",
    "m.add_control(widget_control)\n",
    "\n",
    "io = None\n",
    "\n",
    "def display_png(idx):\n",
    "    global io\n",
    "    \n",
    "    filename=f'png/{idx}.png'\n",
    "    with open(filename, 'rb') as f:\n",
    "        d = b64encode(f.read())\n",
    "    d = d.decode('ascii')\n",
    "    p = 'data:image/png;base64,' + d\n",
    "\n",
    "    if io is None:\n",
    "        io = ImageOverlay(url=p, bounds=bounds, opacity=0.5)\n",
    "        m.add_layer(io)\n",
    "    else:\n",
    "        #m.remove_layer(io)\n",
    "        #io = ImageOverlay(url=p, bounds=bounds, opacity=0.6)\n",
    "        #m.add_layer(io)\n",
    "        io.url = p\n",
    "        \n",
    "def show_snapshot(change):\n",
    "    display_png(change.new)\n",
    "        \n",
    "\n",
    "slider.observe(show_snapshot, 'value')\n",
    "display_png(0)\n",
    "\n",
    "sc = Sidecar(title='bird vis')\n",
    "with sc:\n",
    "    display(m)"
   ]
  },
  {
   "cell_type": "code",
   "execution_count": 11,
   "metadata": {},
   "outputs": [
    {
     "data": {
      "text/plain": [
       "0.5"
      ]
     },
     "execution_count": 11,
     "metadata": {},
     "output_type": "execute_result"
    }
   ],
   "source": [
    "io.opacity"
   ]
  },
  {
   "cell_type": "code",
   "execution_count": 153,
   "metadata": {},
   "outputs": [
    {
     "data": {
      "application/vnd.jupyter.widget-view+json": {
       "model_id": "4d5b3c479ec241608df55e659d50216c",
       "version_major": 2,
       "version_minor": 0
      },
      "text/plain": [
       "interactive(children=(IntSlider(value=0, description='t', max=8), Output()), _dom_classes=('widget-interact',)…"
      ]
     },
     "metadata": {},
     "output_type": "display_data"
    }
   ],
   "source": [
    "import cartopy.crs as ccrs\n",
    "\n",
    "center = [51.164878, 5.295410]\n",
    "\n",
    "img = data.read()\n",
    "#img = np.random.rand(*img.shape)\n",
    "img[img==0] = np.nan    \n",
    "img = np.log(img)\n",
    "img = (img - np.nanmin(img)) / (np.nanmax(img) - np.nanmin(img))\n",
    "\n",
    "@widgets.interact(\n",
    "    t=(0, data.read().shape[0]-1))\n",
    "def plot(t=0):\n",
    "\n",
    "    fig, ax = plt.subplots(figsize=(15,15))\n",
    "    #ax = plt.axes(projection=ccrs.Mercator(central_longitude=center[0], min_latitude=data.bounds.bottom, max_latitude=data.bounds.top), extent=bounds)\n",
    "    #ax.coastlines()\n",
    "    \n",
    "    m = ax.imshow(img[t], extent=data_bounds, interpolation='none') #ransform=ccrs.Mercator(), origin='upper',\n",
    "    #ax.set(xlabel='longitude', ylabel='latitude')\n",
    "    plt.colorbar(m)\n",
    "    \n",
    "    plt.show()"
   ]
  },
  {
   "cell_type": "code",
   "execution_count": 70,
   "metadata": {},
   "outputs": [],
   "source": [
    "center = [51.164878, 5.295410]\n",
    "m = folium.Map(location=center, tiles = 'Stamen Terrain', zoom_start = 6)\n",
    "\n",
    "img = data.read()\n",
    "img[img==0] = np.nan\n",
    "#img = np.nan_to_num(img)\n",
    "img = np.log(img)\n",
    "img = (img - np.nanmin(img)) / (np.nanmax(img) - np.nanmin(img))\n",
    "\n",
    "sc = Sidecar(title='Sidecar Output')\n",
    "time = 0\n",
    "with sc:\n",
    "    #@widgets.interact(time=(0, data.read().shape[0]-1))\n",
    "    #def raster_overlay(time):\n",
    "        #img = np.log(img)\n",
    "        #img = np.random.rand(*img.shape)\n",
    "        \n",
    "    folium.raster_layers.ImageOverlay(plt.cm.get_cmap('rainbow')(img[time]), opacity=0.6, bounds=bounds_arr, mercator_project=True).add_to(m)\n",
    "    display(m)"
   ]
  },
  {
   "cell_type": "code",
   "execution_count": null,
   "metadata": {},
   "outputs": [],
   "source": []
  }
 ],
 "metadata": {
  "kernelspec": {
   "display_name": "bird_vis",
   "language": "python",
   "name": "bird_vis"
  },
  "language_info": {
   "codemirror_mode": {
    "name": "ipython",
    "version": 3
   },
   "file_extension": ".py",
   "mimetype": "text/x-python",
   "name": "python",
   "nbconvert_exporter": "python",
   "pygments_lexer": "ipython3",
   "version": "3.8.1"
  }
 },
 "nbformat": 4,
 "nbformat_minor": 4
}
