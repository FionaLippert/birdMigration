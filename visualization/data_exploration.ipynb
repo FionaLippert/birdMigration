{
 "cells": [
  {
   "cell_type": "code",
   "execution_count": 31,
   "metadata": {},
   "outputs": [],
   "source": [
    "import rasterio as rio\n",
    "from rasterio.plot import show\n",
    "import numpy as np\n",
    "from matplotlib import cm, pyplot as plt\n",
    "from matplotlib.colors import LogNorm\n",
    "import seaborn as sb\n",
    "from datetime import datetime, timedelta\n",
    "\n",
    "from ipyleaflet import Map, Marker\n",
    "import folium\n",
    "from sidecar import Sidecar\n",
    "from PIL import Image\n",
    "\n",
    "from ipyleaflet import Map, ImageOverlay, basemaps, basemap_to_tiles, WidgetControl\n",
    "import os\n",
    "from base64 import b64encode\n",
    "from ipywidgets import IntSlider, SelectionSlider, VBox, Layout"
   ]
  },
  {
   "cell_type": "code",
   "execution_count": 32,
   "metadata": {},
   "outputs": [
    {
     "ename": "RasterioIOError",
     "evalue": "../R/2016-10-3_1000min.tif: No such file or directory",
     "output_type": "error",
     "traceback": [
      "\u001b[0;31m---------------------------------------------------------------------------\u001b[0m",
      "\u001b[0;31mCPLE_OpenFailedError\u001b[0m                      Traceback (most recent call last)",
      "\u001b[0;32mrasterio/_base.pyx\u001b[0m in \u001b[0;36mrasterio._base.DatasetBase.__init__\u001b[0;34m()\u001b[0m\n",
      "\u001b[0;32mrasterio/_shim.pyx\u001b[0m in \u001b[0;36mrasterio._shim.open_dataset\u001b[0;34m()\u001b[0m\n",
      "\u001b[0;32mrasterio/_err.pyx\u001b[0m in \u001b[0;36mrasterio._err.exc_wrap_pointer\u001b[0;34m()\u001b[0m\n",
      "\u001b[0;31mCPLE_OpenFailedError\u001b[0m: ../R/2016-10-3_1000min.tif: No such file or directory",
      "\nDuring handling of the above exception, another exception occurred:\n",
      "\u001b[0;31mRasterioIOError\u001b[0m                           Traceback (most recent call last)",
      "\u001b[0;32m<ipython-input-32-a6f5458e3499>\u001b[0m in \u001b[0;36m<module>\u001b[0;34m\u001b[0m\n\u001b[0;32m----> 1\u001b[0;31m \u001b[0mdata\u001b[0m \u001b[0;34m=\u001b[0m \u001b[0mrio\u001b[0m\u001b[0;34m.\u001b[0m\u001b[0mopen\u001b[0m\u001b[0;34m(\u001b[0m\u001b[0;34m'../R/2016-10-3_1000min.tif'\u001b[0m\u001b[0;34m)\u001b[0m\u001b[0;34m\u001b[0m\u001b[0;34m\u001b[0m\u001b[0m\n\u001b[0m\u001b[1;32m      2\u001b[0m data_bounds = (data.bounds.left, data.bounds.right, \\\n\u001b[1;32m      3\u001b[0m           data.bounds.bottom, data.bounds.top)\n\u001b[1;32m      4\u001b[0m bounds_arr = [[data.bounds.bottom, data.bounds.left], \\\n\u001b[1;32m      5\u001b[0m                   [data.bounds.top, data.bounds.right]]\n",
      "\u001b[0;32m~/anaconda3/envs/leaflet/lib/python3.8/site-packages/rasterio/env.py\u001b[0m in \u001b[0;36mwrapper\u001b[0;34m(*args, **kwds)\u001b[0m\n\u001b[1;32m    432\u001b[0m \u001b[0;34m\u001b[0m\u001b[0m\n\u001b[1;32m    433\u001b[0m         \u001b[0;32mwith\u001b[0m \u001b[0menv_ctor\u001b[0m\u001b[0;34m(\u001b[0m\u001b[0msession\u001b[0m\u001b[0;34m=\u001b[0m\u001b[0msession\u001b[0m\u001b[0;34m)\u001b[0m\u001b[0;34m:\u001b[0m\u001b[0;34m\u001b[0m\u001b[0;34m\u001b[0m\u001b[0m\n\u001b[0;32m--> 434\u001b[0;31m             \u001b[0;32mreturn\u001b[0m \u001b[0mf\u001b[0m\u001b[0;34m(\u001b[0m\u001b[0;34m*\u001b[0m\u001b[0margs\u001b[0m\u001b[0;34m,\u001b[0m \u001b[0;34m**\u001b[0m\u001b[0mkwds\u001b[0m\u001b[0;34m)\u001b[0m\u001b[0;34m\u001b[0m\u001b[0;34m\u001b[0m\u001b[0m\n\u001b[0m\u001b[1;32m    435\u001b[0m \u001b[0;34m\u001b[0m\u001b[0m\n\u001b[1;32m    436\u001b[0m     \u001b[0;32mreturn\u001b[0m \u001b[0mwrapper\u001b[0m\u001b[0;34m\u001b[0m\u001b[0;34m\u001b[0m\u001b[0m\n",
      "\u001b[0;32m~/anaconda3/envs/leaflet/lib/python3.8/site-packages/rasterio/__init__.py\u001b[0m in \u001b[0;36mopen\u001b[0;34m(fp, mode, driver, width, height, count, crs, transform, dtype, nodata, sharing, **kwargs)\u001b[0m\n\u001b[1;32m    217\u001b[0m         \u001b[0;31m# None.\u001b[0m\u001b[0;34m\u001b[0m\u001b[0;34m\u001b[0m\u001b[0;34m\u001b[0m\u001b[0m\n\u001b[1;32m    218\u001b[0m         \u001b[0;32mif\u001b[0m \u001b[0mmode\u001b[0m \u001b[0;34m==\u001b[0m \u001b[0;34m'r'\u001b[0m\u001b[0;34m:\u001b[0m\u001b[0;34m\u001b[0m\u001b[0;34m\u001b[0m\u001b[0m\n\u001b[0;32m--> 219\u001b[0;31m             \u001b[0ms\u001b[0m \u001b[0;34m=\u001b[0m \u001b[0mDatasetReader\u001b[0m\u001b[0;34m(\u001b[0m\u001b[0mpath\u001b[0m\u001b[0;34m,\u001b[0m \u001b[0mdriver\u001b[0m\u001b[0;34m=\u001b[0m\u001b[0mdriver\u001b[0m\u001b[0;34m,\u001b[0m \u001b[0msharing\u001b[0m\u001b[0;34m=\u001b[0m\u001b[0msharing\u001b[0m\u001b[0;34m,\u001b[0m \u001b[0;34m**\u001b[0m\u001b[0mkwargs\u001b[0m\u001b[0;34m)\u001b[0m\u001b[0;34m\u001b[0m\u001b[0;34m\u001b[0m\u001b[0m\n\u001b[0m\u001b[1;32m    220\u001b[0m         \u001b[0;32melif\u001b[0m \u001b[0mmode\u001b[0m \u001b[0;34m==\u001b[0m \u001b[0;34m'r+'\u001b[0m\u001b[0;34m:\u001b[0m\u001b[0;34m\u001b[0m\u001b[0;34m\u001b[0m\u001b[0m\n\u001b[1;32m    221\u001b[0m             \u001b[0ms\u001b[0m \u001b[0;34m=\u001b[0m \u001b[0mget_writer_for_path\u001b[0m\u001b[0;34m(\u001b[0m\u001b[0mpath\u001b[0m\u001b[0;34m)\u001b[0m\u001b[0;34m(\u001b[0m\u001b[0mpath\u001b[0m\u001b[0;34m,\u001b[0m \u001b[0mmode\u001b[0m\u001b[0;34m,\u001b[0m \u001b[0mdriver\u001b[0m\u001b[0;34m=\u001b[0m\u001b[0mdriver\u001b[0m\u001b[0;34m,\u001b[0m \u001b[0msharing\u001b[0m\u001b[0;34m=\u001b[0m\u001b[0msharing\u001b[0m\u001b[0;34m,\u001b[0m \u001b[0;34m**\u001b[0m\u001b[0mkwargs\u001b[0m\u001b[0;34m)\u001b[0m\u001b[0;34m\u001b[0m\u001b[0;34m\u001b[0m\u001b[0m\n",
      "\u001b[0;32mrasterio/_base.pyx\u001b[0m in \u001b[0;36mrasterio._base.DatasetBase.__init__\u001b[0;34m()\u001b[0m\n",
      "\u001b[0;31mRasterioIOError\u001b[0m: ../R/2016-10-3_1000min.tif: No such file or directory"
     ]
    }
   ],
   "source": [
    "data = rio.open('../R/2016-10-3_1000min.tif')\n",
    "data_bounds = (data.bounds.left, data.bounds.right, \\\n",
    "          data.bounds.bottom, data.bounds.top)\n",
    "bounds_arr = [[data.bounds.bottom, data.bounds.left], \\\n",
    "                  [data.bounds.top, data.bounds.right]]\n",
    "bounds_arr"
   ]
  },
  {
   "cell_type": "code",
   "execution_count": null,
   "metadata": {},
   "outputs": [],
   "source": [
    "# transform pixel coordinates to lat long --> create heatmap to visualize with folium\n",
    "rio.transform.xy(data.transform, 0, 0)"
   ]
  },
  {
   "cell_type": "code",
   "execution_count": null,
   "metadata": {},
   "outputs": [],
   "source": [
    "def raster_to_heatmaps(raster_ts):\n",
    "    ..."
   ]
  },
  {
   "cell_type": "code",
   "execution_count": 7,
   "metadata": {},
   "outputs": [],
   "source": [
    "def raster_to_pngs(raster_data, t_start, t_delta=timedelta(minutes=15), colormap=cm.rainbow):\n",
    "    \n",
    "    img_arr = raster_data.read()\n",
    "    \n",
    "    print(np.nanmin(img_arr), np.nanmax(img_arr))\n",
    "    \n",
    "    img_arr[img_arr>2000] = np.nan\n",
    "    \n",
    "    img_arr[img_arr==0] = np.nan\n",
    "    img_arr = np.log(img_arr)\n",
    "    \n",
    "    print(np.nanmin(img_arr), np.nanmax(img_arr))\n",
    "    img_arr -= np.nanmean(img_arr)\n",
    "    img_arr = (img_arr - np.nanmin(img_arr)) / (np.nanmax(img_arr) - np.nanmin(img_arr))\n",
    "    #print(img_arr)\n",
    "    \n",
    "    x, y,z = np.where(np.isnan(img_arr))\n",
    "    img_arr = colormap(img_arr, bytes = True)\n",
    "    img_arr[x,y,z, -1] = 0\n",
    "    \n",
    "    print(img_arr.shape)\n",
    "    \n",
    "    #alpha = np.zeros(img_arr.shape)\n",
    "    #alpha[np.where(np.isfinite(img_arr))] = 255\n",
    "    #print(alpha.shape)\n",
    "    \n",
    "    #img_arr = np.uint8(colormap(img_arr)*255)\n",
    "    \n",
    "    #img_arr = np.concatenate((img_arr, alpha))\n",
    "    \n",
    "    os.makedirs('./png', exist_ok=True)\n",
    "    \n",
    "    t_range = np.array([t_start + t_delta*i for i in range(img_arr.shape[0])], dtype=datetime)\n",
    "    \n",
    "    for i in range(img_arr.shape[0]):\n",
    "        im = Image.fromarray(img_arr[i])\n",
    "        im.save(f'png/{t_range[i]}.png','PNG')\n",
    "        \n",
    "    \n",
    "    #t_range = np.arange(t_start, datetime(2015,7,1), timedelta(days=1)).astype(datetime)\n",
    "    return t_range"
   ]
  },
  {
   "cell_type": "code",
   "execution_count": 8,
   "metadata": {},
   "outputs": [
    {
     "name": "stdout",
     "output_type": "stream",
     "text": [
      "0.0 inf\n"
     ]
    },
    {
     "name": "stderr",
     "output_type": "stream",
     "text": [
      "<ipython-input-7-1e0c660c17ee>:7: RuntimeWarning: invalid value encountered in greater\n",
      "  img_arr[img_arr>2000] = np.nan\n"
     ]
    },
    {
     "name": "stdout",
     "output_type": "stream",
     "text": [
      "-5.2198973 7.600898\n",
      "(67, 1304, 1244, 4)\n"
     ]
    }
   ],
   "source": [
    "t_start = datetime(2016, 10, 3, 17)\n",
    "t_range = raster_to_pngs(data, t_start)"
   ]
  },
  {
   "cell_type": "code",
   "execution_count": 6,
   "metadata": {},
   "outputs": [
    {
     "data": {
      "text/plain": [
       "'2016-10-03 17:00:00'"
      ]
     },
     "execution_count": 6,
     "metadata": {},
     "output_type": "execute_result"
    }
   ],
   "source": [
    "str(t_range[0])"
   ]
  },
  {
   "cell_type": "code",
   "execution_count": null,
   "metadata": {},
   "outputs": [],
   "source": [
    " = np.fft.fft2(img)\n",
    "fshift = np.fft.fftshift(f)\n",
    "magnitude_spectrum = 20*np.log(np.abs(fshift))\n",
    "\n",
    "plt.subplot(121),plt.imshow(img, cmap = 'gray')\n",
    "plt.title('Input Image'), plt.xticks([]), plt.yticks([])\n",
    "plt.subplot(122),plt.imshow(magnitude_spectrum, cmap = 'gray')\n",
    "plt.title('Magnitude Spectrum'), plt.xticks([]), plt.yticks([])\n",
    "plt.show()\n"
   ]
  },
  {
   "cell_type": "code",
   "execution_count": 6,
   "metadata": {},
   "outputs": [
    {
     "data": {
      "text/plain": [
       "{'driver': 'GTiff',\n",
       " 'dtype': 'float32',\n",
       " 'nodata': None,\n",
       " 'width': 1244,\n",
       " 'height': 1304,\n",
       " 'count': 9,\n",
       " 'crs': CRS.from_epsg(4326),\n",
       " 'transform': Affine(0.01, 0.0, -1.9407999999999994,\n",
       "        0.0, -0.01, 57.94833862304688)}"
      ]
     },
     "execution_count": 6,
     "metadata": {},
     "output_type": "execute_result"
    }
   ],
   "source": [
    "data.meta"
   ]
  },
  {
   "cell_type": "code",
   "execution_count": 30,
   "metadata": {},
   "outputs": [
    {
     "data": {
      "text/plain": [
       "66.66666666666667"
      ]
     },
     "execution_count": 30,
     "metadata": {},
     "output_type": "execute_result"
    }
   ],
   "source": [
    "1000/15"
   ]
  },
  {
   "cell_type": "code",
   "execution_count": 29,
   "metadata": {},
   "outputs": [
    {
     "data": {
      "application/vnd.jupyter.widget-view+json": {
       "model_id": "9b1d3685cb284752a70dfb053a1b0783",
       "version_major": 2,
       "version_minor": 0
      },
      "text/plain": [
       "Map(center=[51.42833862304688, 4.2792], controls=(ZoomControl(options=['position', 'zoom_in_text', 'zoom_in_ti…"
      ]
     },
     "metadata": {},
     "output_type": "display_data"
    }
   ],
   "source": [
    "bounds=((data.bounds.bottom, data.bounds.left), \\\n",
    "                 (data.bounds.top, data.bounds.right))\n",
    "\n",
    "center = ((bounds[0][0]+bounds[1][0])/2,(bounds[0][1]+bounds[1][1])/2)\n",
    "m = Map(center=center, zoom=6)\n",
    "\n",
    "#t_range = range(data.read().shape[0])\n",
    "\n",
    "slider_layout = Layout(\n",
    "    #display='flex',\n",
    "    #flex_flow='row',\n",
    "    #justify_content='space-between'\n",
    "    #align_content = 'flex-end'\n",
    ")\n",
    "\n",
    "slider = SelectionSlider(description='time step:', \n",
    "                    options=t_range, \n",
    "                    orientation='horizontal',\n",
    "                    layout={'width': '500px'}\n",
    ")\n",
    "\n",
    "\n",
    "widget_control = WidgetControl(widget=slider, position='topright', layout=form_item_layout)\n",
    "m.add_control(widget_control)\n",
    "\n",
    "io = None\n",
    "\n",
    "def display_png(t):\n",
    "    global io\n",
    "    \n",
    "    filename=f'png/{t}.png'\n",
    "    with open(filename, 'rb') as f:\n",
    "        d = b64encode(f.read())\n",
    "    d = d.decode('ascii')\n",
    "    p = 'data:image/png;base64,' + d\n",
    "\n",
    "    if io is None:\n",
    "        io = ImageOverlay(url=p, bounds=bounds, opacity=0.7)\n",
    "        m.add_layer(io)\n",
    "    else:\n",
    "        #m.remove_layer(io)\n",
    "        #io = ImageOverlay(url=p, bounds=bounds, opacity=0.6)\n",
    "        #m.add_layer(io)\n",
    "        io.url = p\n",
    "        \n",
    "def show_snapshot(change):\n",
    "    display_png(change.new)\n",
    "        \n",
    "\n",
    "slider.observe(show_snapshot, 'value')\n",
    "display_png(0)\n",
    "\n",
    "sc = Sidecar(title='bird vis')\n",
    "with sc:\n",
    "    display(m)"
   ]
  },
  {
   "cell_type": "code",
   "execution_count": 153,
   "metadata": {},
   "outputs": [
    {
     "data": {
      "application/vnd.jupyter.widget-view+json": {
       "model_id": "4d5b3c479ec241608df55e659d50216c",
       "version_major": 2,
       "version_minor": 0
      },
      "text/plain": [
       "interactive(children=(IntSlider(value=0, description='t', max=8), Output()), _dom_classes=('widget-interact',)…"
      ]
     },
     "metadata": {},
     "output_type": "display_data"
    }
   ],
   "source": [
    "center = [51.164878, 5.295410]\n",
    "\n",
    "img = data.read()\n",
    "#img = np.random.rand(*img.shape)\n",
    "img[img==0] = np.nan    \n",
    "img = np.log(img)\n",
    "img = (img - np.nanmin(img)) / (np.nanmax(img) - np.nanmin(img))\n",
    "\n",
    "@widgets.interact(\n",
    "    t=(0, data.read().shape[0]-1))\n",
    "def plot(t=0):\n",
    "\n",
    "    fig, ax = plt.subplots(figsize=(15,15))\n",
    "    #ax = plt.axes(projection=ccrs.Mercator(central_longitude=center[0], min_latitude=data.bounds.bottom, max_latitude=data.bounds.top), extent=bounds)\n",
    "    #ax.coastlines()\n",
    "    \n",
    "    m = ax.imshow(img[t], extent=data_bounds, interpolation='none')\n",
    "    #ax.set(xlabel='longitude', ylabel='latitude')\n",
    "    plt.colorbar(m)\n",
    "    \n",
    "    plt.show()"
   ]
  },
  {
   "cell_type": "code",
   "execution_count": 70,
   "metadata": {},
   "outputs": [],
   "source": [
    "center = [51.164878, 5.295410]\n",
    "m = folium.Map(location=center, tiles = 'Stamen Terrain', zoom_start = 6)\n",
    "\n",
    "img = data.read()\n",
    "img[img==0] = np.nan\n",
    "#img = np.nan_to_num(img)\n",
    "img = np.log(img)\n",
    "img = (img - np.nanmin(img)) / (np.nanmax(img) - np.nanmin(img))\n",
    "\n",
    "sc = Sidecar(title='Sidecar Output')\n",
    "time = 0\n",
    "with sc:\n",
    "    #@widgets.interact(time=(0, data.read().shape[0]-1))\n",
    "    #def raster_overlay(time):\n",
    "        #img = np.log(img)\n",
    "        #img = np.random.rand(*img.shape)\n",
    "        \n",
    "    folium.raster_layers.ImageOverlay(plt.cm.get_cmap('rainbow')(img[time]), opacity=0.6, bounds=bounds_arr, mercator_project=True).add_to(m)\n",
    "    display(m)"
   ]
  },
  {
   "cell_type": "code",
   "execution_count": 3,
   "metadata": {},
   "outputs": [
    {
     "name": "stdout",
     "output_type": "stream",
     "text": [
      "test\n"
     ]
    }
   ],
   "source": [
    "sc = Sidecar()\n",
    "with sc:\n",
    "    print('test')"
   ]
  },
  {
   "cell_type": "code",
   "execution_count": null,
   "metadata": {},
   "outputs": [],
   "source": []
  }
 ],
 "metadata": {
  "kernelspec": {
   "display_name": "leaflet",
   "language": "python",
   "name": "leaflet"
  },
  "language_info": {
   "codemirror_mode": {
    "name": "ipython",
    "version": 3
   },
   "file_extension": ".py",
   "mimetype": "text/x-python",
   "name": "python",
   "nbconvert_exporter": "python",
   "pygments_lexer": "ipython3",
   "version": "3.8.1"
  }
 },
 "nbformat": 4,
 "nbformat_minor": 4
}
