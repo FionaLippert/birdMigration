{
 "cells": [
  {
   "cell_type": "code",
   "execution_count": 2,
   "metadata": {},
   "outputs": [],
   "source": [
    "import torch"
   ]
  },
  {
   "cell_type": "code",
   "execution_count": 35,
   "metadata": {},
   "outputs": [],
   "source": [
    "a = torch.rand((4,1,1,64,64))\n",
    "b = torch.ones((4,1,1,64,64))\n",
    "b[0,0,0,:,0] = 0.5"
   ]
  },
  {
   "cell_type": "code",
   "execution_count": 36,
   "metadata": {},
   "outputs": [],
   "source": [
    "loss = torch.nn.functional.binary_cross_entropy(b,b, reduction='none')"
   ]
  },
  {
   "cell_type": "code",
   "execution_count": 37,
   "metadata": {},
   "outputs": [
    {
     "data": {
      "text/plain": [
       "tensor([44.3614,  0.0000,  0.0000,  0.0000])"
      ]
     },
     "execution_count": 37,
     "metadata": {},
     "output_type": "execute_result"
    }
   ],
   "source": [
    "while len(loss.shape) > 1:\n",
    "    loss = loss.sum(-1)\n",
    "loss"
   ]
  },
  {
   "cell_type": "code",
   "execution_count": 21,
   "metadata": {},
   "outputs": [
    {
     "data": {
      "text/plain": [
       "tensor([[[[[1, 1, 1,  ..., 1, 1, 1],\n",
       "           [1, 1, 1,  ..., 1, 1, 1],\n",
       "           [1, 1, 1,  ..., 1, 1, 1],\n",
       "           ...,\n",
       "           [1, 1, 1,  ..., 1, 1, 1],\n",
       "           [1, 1, 1,  ..., 1, 1, 1],\n",
       "           [1, 1, 1,  ..., 1, 1, 1]]]],\n",
       "\n",
       "\n",
       "\n",
       "        [[[[1, 1, 1,  ..., 1, 1, 1],\n",
       "           [1, 1, 1,  ..., 1, 1, 1],\n",
       "           [1, 1, 1,  ..., 1, 1, 1],\n",
       "           ...,\n",
       "           [1, 1, 1,  ..., 1, 1, 1],\n",
       "           [1, 1, 1,  ..., 1, 1, 1],\n",
       "           [1, 1, 1,  ..., 1, 1, 1]]]],\n",
       "\n",
       "\n",
       "\n",
       "        [[[[1, 1, 1,  ..., 1, 1, 1],\n",
       "           [1, 1, 1,  ..., 1, 1, 1],\n",
       "           [1, 1, 1,  ..., 1, 1, 1],\n",
       "           ...,\n",
       "           [1, 1, 1,  ..., 1, 1, 1],\n",
       "           [1, 1, 1,  ..., 1, 1, 1],\n",
       "           [1, 1, 1,  ..., 1, 1, 1]]]],\n",
       "\n",
       "\n",
       "\n",
       "        [[[[1, 1, 1,  ..., 1, 1, 1],\n",
       "           [1, 1, 1,  ..., 1, 1, 1],\n",
       "           [1, 1, 1,  ..., 1, 1, 1],\n",
       "           ...,\n",
       "           [1, 1, 1,  ..., 1, 1, 1],\n",
       "           [1, 1, 1,  ..., 1, 1, 1],\n",
       "           [1, 1, 1,  ..., 1, 1, 1]]]]], dtype=torch.int32)"
      ]
     },
     "execution_count": 21,
     "metadata": {},
     "output_type": "execute_result"
    }
   ],
   "source": [
    "(a != 0).int().sum()"
   ]
  },
  {
   "cell_type": "code",
   "execution_count": null,
   "metadata": {},
   "outputs": [],
   "source": []
  }
 ],
 "metadata": {
  "kernelspec": {
   "display_name": "convlstm",
   "language": "python",
   "name": "convlstm"
  },
  "language_info": {
   "codemirror_mode": {
    "name": "ipython",
    "version": 3
   },
   "file_extension": ".py",
   "mimetype": "text/x-python",
   "name": "python",
   "nbconvert_exporter": "python",
   "pygments_lexer": "ipython3",
   "version": "3.8.2"
  }
 },
 "nbformat": 4,
 "nbformat_minor": 4
}
