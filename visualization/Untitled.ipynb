{
 "cells": [
  {
   "cell_type": "code",
   "execution_count": null,
   "metadata": {},
   "outputs": [],
   "source": []
  },
  {
   "cell_type": "code",
   "execution_count": 1,
   "metadata": {},
   "outputs": [
    {
     "data": {
      "application/vnd.jupyter.widget-view+json": {
       "model_id": "a9a7473e22924472b96c879f8ea2ba5c",
       "version_major": 2,
       "version_minor": 0
      },
      "text/plain": [
       "Map(center=[51.164878, 5.29541], controls=(ZoomControl(options=['position', 'zoom_in_text', 'zoom_in_title', '…"
      ]
     },
     "metadata": {},
     "output_type": "display_data"
    }
   ],
   "source": [
    "import numpy as np\n",
    "from matplotlib import cm\n",
    "from PIL import Image\n",
    "from ipyleaflet import Map, ImageOverlay, WidgetControl\n",
    "import os\n",
    "from base64 import b64encode\n",
    "from ipywidgets import SelectionSlider\n",
    "\n",
    "# create random images and save them as png\n",
    "t_range = range(10)\n",
    "os.makedirs('./png', exist_ok=True)\n",
    "for t in t_range:\n",
    "    im = Image.fromarray(np.uint8(cm.rainbow(np.random.rand(100,100))*255))\n",
    "    im.save(f'png/{t}.png','PNG')\n",
    "    \n",
    "# set up map with slider\n",
    "center = [51.164878, 5.295410]\n",
    "bounds=((center[0]-5, center[1]-5), \\\n",
    "        (center[0]+5, center[1]+5))\n",
    "m = Map(center=center, zoom=5)\n",
    "slider = SelectionSlider(description='time step:', \n",
    "                   options=t_range, \n",
    "                   orientation='horizontal')\n",
    "widget_control = WidgetControl(widget=slider, position='topright')\n",
    "m.add_control(widget_control)\n",
    "\n",
    "\n",
    "# update functions\n",
    "io = None\n",
    "def update_png(t):\n",
    "    global io\n",
    "    \n",
    "    filename=f'png/{t}.png'\n",
    "    with open(filename, 'rb') as f:\n",
    "        d = b64encode(f.read())\n",
    "    d = d.decode('ascii')\n",
    "    p = 'data:image/png;base64,' + d\n",
    "\n",
    "    if io is None:\n",
    "        io = ImageOverlay(url=p, bounds=bounds, opacity=0.3)\n",
    "        m.add_layer(io)\n",
    "    else:\n",
    "        io.url = p\n",
    "        \n",
    "def show(change):\n",
    "    update_png(change.new)\n",
    "\n",
    "# show map\n",
    "slider.observe(show, 'value')\n",
    "update_png(0)\n",
    "display(m)"
   ]
  },
  {
   "cell_type": "code",
   "execution_count": null,
   "metadata": {},
   "outputs": [],
   "source": []
  }
 ],
 "metadata": {
  "kernelspec": {
   "display_name": "bird_vis",
   "language": "python",
   "name": "bird_vis"
  },
  "language_info": {
   "codemirror_mode": {
    "name": "ipython",
    "version": 3
   },
   "file_extension": ".py",
   "mimetype": "text/x-python",
   "name": "python",
   "nbconvert_exporter": "python",
   "pygments_lexer": "ipython3",
   "version": "3.8.1"
  }
 },
 "nbformat": 4,
 "nbformat_minor": 4
}
