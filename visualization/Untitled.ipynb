{
 "cells": [
  {
   "cell_type": "code",
   "execution_count": 1,
   "metadata": {},
   "outputs": [],
   "source": [
    "import xarray as xr"
   ]
  },
  {
   "cell_type": "code",
   "execution_count": 2,
   "metadata": {},
   "outputs": [],
   "source": [
    "ds = xr.open_dataset('/home/fiona/radar_data/vpi/test_5min/20180801T0000_to_20180802T0000/vpi_NLDHL.nc')"
   ]
  },
  {
   "cell_type": "code",
   "execution_count": 5,
   "metadata": {},
   "outputs": [
    {
     "data": {
      "text/plain": [
       "time\n",
       "2018-08-01 00:00:05    2.540677\n",
       "2018-08-01 00:05:04    2.569269\n",
       "2018-08-01 00:10:04    2.675847\n",
       "2018-08-01 00:15:04    2.630647\n",
       "2018-08-01 00:20:04    2.647275\n",
       "                         ...   \n",
       "2018-08-01 23:40:04    4.525100\n",
       "2018-08-01 23:45:04    4.666323\n",
       "2018-08-01 23:50:04    4.532523\n",
       "2018-08-01 23:55:04    4.641276\n",
       "2018-08-02 00:00:04    4.568428\n",
       "Length: 288, dtype: float32"
      ]
     },
     "execution_count": 5,
     "metadata": {},
     "output_type": "execute_result"
    }
   ],
   "source": [
    "ds.ff.to_pandas()"
   ]
  },
  {
   "cell_type": "code",
   "execution_count": 17,
   "metadata": {},
   "outputs": [],
   "source": [
    "ds = xr.open_dataset('/home/fiona/radar_data/vpi/test_no_delta/20180801T0000_to_20180802T0000/vpi_BEJAB.nc')"
   ]
  },
  {
   "cell_type": "code",
   "execution_count": 18,
   "metadata": {},
   "outputs": [
    {
     "data": {
      "text/html": [
       "<pre>&lt;xarray.Dataset&gt;\n",
       "Dimensions:   (time: 289)\n",
       "Coordinates:\n",
       "  * time      (time) datetime64[ns] 2018-08-01T00:00:05 ... 2018-08-02T00:00:05\n",
       "Data variables:\n",
       "    solarpos  (time) float32 ...\n",
       "    mtr       (time) float32 ...\n",
       "    vid       (time) float32 ...\n",
       "    vir       (time) float32 ...\n",
       "    rtr       (time) float32 ...\n",
       "    mt        (time) float32 ...\n",
       "    rt        (time) float32 ...\n",
       "    ff        (time) float32 ...\n",
       "    dd        (time) float32 ...\n",
       "    u         (time) float32 ...\n",
       "    v         (time) float32 ...\n",
       "    height    (time) float32 ...\n",
       "Attributes:\n",
       "    source:     BE/JAB\n",
       "    lat:        51.191700000000004\n",
       "    lon:        3.0642000000000005\n",
       "    fillvalue:  1e+32\n",
       "    history:    F. Lippert, Wed Nov 11 12:10:39 2020</pre>"
      ],
      "text/plain": [
       "<xarray.Dataset>\n",
       "Dimensions:   (time: 289)\n",
       "Coordinates:\n",
       "  * time      (time) datetime64[ns] 2018-08-01T00:00:05 ... 2018-08-02T00:00:05\n",
       "Data variables:\n",
       "    solarpos  (time) float32 ...\n",
       "    mtr       (time) float32 ...\n",
       "    vid       (time) float32 ...\n",
       "    vir       (time) float32 ...\n",
       "    rtr       (time) float32 ...\n",
       "    mt        (time) float32 ...\n",
       "    rt        (time) float32 ...\n",
       "    ff        (time) float32 ...\n",
       "    dd        (time) float32 ...\n",
       "    u         (time) float32 ...\n",
       "    v         (time) float32 ...\n",
       "    height    (time) float32 ...\n",
       "Attributes:\n",
       "    source:     BE/JAB\n",
       "    lat:        51.191700000000004\n",
       "    lon:        3.0642000000000005\n",
       "    fillvalue:  1e+32\n",
       "    history:    F. Lippert, Wed Nov 11 12:10:39 2020"
      ]
     },
     "execution_count": 18,
     "metadata": {},
     "output_type": "execute_result"
    }
   ],
   "source": [
    "ds"
   ]
  },
  {
   "cell_type": "code",
   "execution_count": 10,
   "metadata": {},
   "outputs": [
    {
     "data": {
      "text/plain": [
       "time\n",
       "2018-08-01 00:00:35    10.378494\n",
       "2018-08-01 00:15:35    10.473416\n",
       "2018-08-01 00:30:35    10.991947\n",
       "2018-08-01 00:45:35     8.303300\n",
       "2018-08-01 01:00:35     9.700165\n",
       "                         ...    \n",
       "2018-08-01 23:00:35     4.152781\n",
       "2018-08-01 23:15:35     4.223816\n",
       "2018-08-01 23:30:35     5.070352\n",
       "2018-08-01 23:45:35     6.248383\n",
       "2018-08-02 00:00:35     6.465004\n",
       "Length: 97, dtype: float32"
      ]
     },
     "execution_count": 10,
     "metadata": {},
     "output_type": "execute_result"
    }
   ],
   "source": [
    "ds.ff.to_pandas()"
   ]
  },
  {
   "cell_type": "code",
   "execution_count": null,
   "metadata": {},
   "outputs": [],
   "source": []
  }
 ],
 "metadata": {
  "kernelspec": {
   "display_name": "bird_vis",
   "language": "python",
   "name": "bird_vis"
  },
  "language_info": {
   "codemirror_mode": {
    "name": "ipython",
    "version": 3
   },
   "file_extension": ".py",
   "mimetype": "text/x-python",
   "name": "python",
   "nbconvert_exporter": "python",
   "pygments_lexer": "ipython3",
   "version": "3.8.1"
  }
 },
 "nbformat": 4,
 "nbformat_minor": 4
}
